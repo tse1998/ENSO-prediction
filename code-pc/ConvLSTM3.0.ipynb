{
 "cells": [
  {
   "cell_type": "code",
   "execution_count": 1,
   "metadata": {},
   "outputs": [
    {
     "name": "stderr",
     "output_type": "stream",
     "text": [
      "Using TensorFlow backend.\n",
      "D:\\Anaconda3\\lib\\site-packages\\tensorflow\\python\\framework\\dtypes.py:526: FutureWarning: Passing (type, 1) or '1type' as a synonym of type is deprecated; in a future version of numpy, it will be understood as (type, (1,)) / '(1,)type'.\n",
      "  _np_qint8 = np.dtype([(\"qint8\", np.int8, 1)])\n",
      "D:\\Anaconda3\\lib\\site-packages\\tensorflow\\python\\framework\\dtypes.py:527: FutureWarning: Passing (type, 1) or '1type' as a synonym of type is deprecated; in a future version of numpy, it will be understood as (type, (1,)) / '(1,)type'.\n",
      "  _np_quint8 = np.dtype([(\"quint8\", np.uint8, 1)])\n",
      "D:\\Anaconda3\\lib\\site-packages\\tensorflow\\python\\framework\\dtypes.py:528: FutureWarning: Passing (type, 1) or '1type' as a synonym of type is deprecated; in a future version of numpy, it will be understood as (type, (1,)) / '(1,)type'.\n",
      "  _np_qint16 = np.dtype([(\"qint16\", np.int16, 1)])\n",
      "D:\\Anaconda3\\lib\\site-packages\\tensorflow\\python\\framework\\dtypes.py:529: FutureWarning: Passing (type, 1) or '1type' as a synonym of type is deprecated; in a future version of numpy, it will be understood as (type, (1,)) / '(1,)type'.\n",
      "  _np_quint16 = np.dtype([(\"quint16\", np.uint16, 1)])\n",
      "D:\\Anaconda3\\lib\\site-packages\\tensorflow\\python\\framework\\dtypes.py:530: FutureWarning: Passing (type, 1) or '1type' as a synonym of type is deprecated; in a future version of numpy, it will be understood as (type, (1,)) / '(1,)type'.\n",
      "  _np_qint32 = np.dtype([(\"qint32\", np.int32, 1)])\n",
      "D:\\Anaconda3\\lib\\site-packages\\tensorflow\\python\\framework\\dtypes.py:535: FutureWarning: Passing (type, 1) or '1type' as a synonym of type is deprecated; in a future version of numpy, it will be understood as (type, (1,)) / '(1,)type'.\n",
      "  np_resource = np.dtype([(\"resource\", np.ubyte, 1)])\n"
     ]
    }
   ],
   "source": [
    "from keras.models import Sequential\n",
    "from keras.layers.convolutional import Conv2D\n",
    "from keras.layers.convolutional_recurrent import ConvLSTM2D\n",
    "from keras.layers.normalization import BatchNormalization\n",
    "from keras.layers.core import Flatten\n",
    "from keras.layers import Dense\n",
    "import numpy as np\n",
    "import pylab as plt"
   ]
  },
  {
   "cell_type": "code",
   "execution_count": 2,
   "metadata": {
    "scrolled": false
   },
   "outputs": [
    {
     "name": "stdout",
     "output_type": "stream",
     "text": [
      "WARNING:tensorflow:From D:\\Anaconda3\\lib\\site-packages\\tensorflow\\python\\ops\\resource_variable_ops.py:435: colocate_with (from tensorflow.python.framework.ops) is deprecated and will be removed in a future version.\n",
      "Instructions for updating:\n",
      "Colocations handled automatically by placer.\n"
     ]
    }
   ],
   "source": [
    "# (n_frames, width, height, channels) and 返回形状相同的电影.\n",
    "def mymodel():\n",
    "    seq = Sequential()\n",
    "    seq.add(ConvLSTM2D(filters=40, kernel_size=(3, 3),\n",
    "                   input_shape=(None, 24, 72, 1),\n",
    "                   padding='same', return_sequences=True))\n",
    "    #input_shape(None, 24, 72, 40)\n",
    "    seq.add(BatchNormalization())\n",
    "    seq.add(ConvLSTM2D(filters=40, kernel_size=(3, 3),\n",
    "                   padding='same', return_sequences=True))\n",
    "    seq.add(BatchNormalization())\n",
    "    seq.add(ConvLSTM2D(filters=40, kernel_size=(3, 3),\n",
    "                   padding='same', return_sequences=True))\n",
    "    seq.add(BatchNormalization())\n",
    "\n",
    "    seq.add(ConvLSTM2D(filters=30, kernel_size=(3, 3),\n",
    "                   padding='same', return_sequences=False))\n",
    "    seq.add(BatchNormalization())\n",
    "\n",
    "    seq.add(Conv2D(filters=1, kernel_size=(3),\n",
    "               activation='sigmoid',\n",
    "               padding='same', data_format='channels_last'))\n",
    "    seq.add(Flatten())\n",
    "    seq.add(Dense(units=1024))\n",
    "    seq.add(Dense(units=512))\n",
    "    seq.add(Dense(units=24))\n",
    "    seq.compile(optimizer='adam',loss='mean_squared_error',metrics=['accuracy'])\n",
    "    return seq"
   ]
  },
  {
   "cell_type": "code",
   "execution_count": 3,
   "metadata": {
    "scrolled": true
   },
   "outputs": [
    {
     "name": "stdout",
     "output_type": "stream",
     "text": [
      "Model: \"sequential_1\"\n",
      "_________________________________________________________________\n",
      "Layer (type)                 Output Shape              Param #   \n",
      "=================================================================\n",
      "conv_lst_m2d_1 (ConvLSTM2D)  (None, None, 24, 72, 40)  59200     \n",
      "_________________________________________________________________\n",
      "batch_normalization_1 (Batch (None, None, 24, 72, 40)  160       \n",
      "_________________________________________________________________\n",
      "conv_lst_m2d_2 (ConvLSTM2D)  (None, None, 24, 72, 40)  115360    \n",
      "_________________________________________________________________\n",
      "batch_normalization_2 (Batch (None, None, 24, 72, 40)  160       \n",
      "_________________________________________________________________\n",
      "conv_lst_m2d_3 (ConvLSTM2D)  (None, None, 24, 72, 40)  115360    \n",
      "_________________________________________________________________\n",
      "batch_normalization_3 (Batch (None, None, 24, 72, 40)  160       \n",
      "_________________________________________________________________\n",
      "conv_lst_m2d_4 (ConvLSTM2D)  (None, 24, 72, 30)        75720     \n",
      "_________________________________________________________________\n",
      "batch_normalization_4 (Batch (None, 24, 72, 30)        120       \n",
      "_________________________________________________________________\n",
      "conv2d_1 (Conv2D)            (None, 24, 72, 1)         271       \n",
      "_________________________________________________________________\n",
      "flatten_1 (Flatten)          (None, 1728)              0         \n",
      "_________________________________________________________________\n",
      "dense_1 (Dense)              (None, 1024)              1770496   \n",
      "_________________________________________________________________\n",
      "dense_2 (Dense)              (None, 512)               524800    \n",
      "_________________________________________________________________\n",
      "dense_3 (Dense)              (None, 24)                12312     \n",
      "=================================================================\n",
      "Total params: 2,674,119\n",
      "Trainable params: 2,673,819\n",
      "Non-trainable params: 300\n",
      "_________________________________________________________________\n"
     ]
    }
   ],
   "source": [
    "seq.summary()"
   ]
  },
  {
   "cell_type": "code",
   "execution_count": null,
   "metadata": {},
   "outputs": [],
   "source": [
    "from tensorflow.keras.wrappers.scikit_learn import KerasClassifier\n",
    "from sklearn.ensemble import VotingClassifier\n",
    "from sklearn.metrics import accuracy_score"
   ]
  },
  {
   "cell_type": "code",
   "execution_count": null,
   "metadata": {},
   "outputs": [],
   "source": [
    "#创建三个模型 模型之间因为dropout的原因不尽相同\n",
    "model1 = KerasClassifier(build_fn=mymodel, epochs=50, batch_size=15)\n",
    "model2 = KerasClassifier(build_fn=mymodel, epochs=50, batch_size=15)\n",
    "model3 = KerasClassifier(build_fn=mymodel, epochs=50, batch_size=15)"
   ]
  },
  {
   "cell_type": "code",
   "execution_count": 4,
   "metadata": {},
   "outputs": [],
   "source": [
    "#data\n",
    "import numpy as np\n",
    "import netCDF4\n",
    "from netCDF4 import Dataset\n",
    "inp1 = Dataset('../data/enso_round1_train_20210201/CMIP_train.nc','r')\n",
    "inp2 = Dataset('../data/enso_round1_train_20210201/CMIP_train.nc','r')\n",
    "\n",
    "#[字序列数，子序列长度，长，宽]\n",
    "inpv1 = np.zeros((4645,48,24,72))\n",
    "\n",
    "#[4645, 48, 24, 72]\n",
    "#通道压缩到序列中\n",
    "\n",
    "inpv1[:,0:12,:,:] = inp1.variables['sst1'][:,0:12,:,:]\n",
    "#c1 [2960, 第二年, :, :, ]\n",
    "inpv1[:,12:24,:,:] = inp1.variables['t300'][:,0:12,:,:]\n",
    "#c2 [2960, 第二年, :, :,]\n",
    "inpv1[:,24:36,:,:] = inp1.variables['ua'][:,0:12,:,:]\n",
    "inpv1[:,36:48,:,:] = inp1.variables['va'][:,0:12,:,:]"
   ]
  },
  {
   "cell_type": "code",
   "execution_count": 5,
   "metadata": {},
   "outputs": [
    {
     "data": {
      "text/plain": [
       "(2960, 24, 24, 72)"
      ]
     },
     "execution_count": 5,
     "metadata": {},
     "output_type": "execute_result"
    }
   ],
   "source": [
    "trX = inpv1[:,:,:,:]\n",
    "trX.shape"
   ]
  },
  {
   "cell_type": "code",
   "execution_count": 6,
   "metadata": {},
   "outputs": [
    {
     "data": {
      "text/plain": [
       "(2960, 24, 24, 72, 1)"
      ]
     },
     "execution_count": 6,
     "metadata": {},
     "output_type": "execute_result"
    }
   ],
   "source": [
    "trX=trX[:, : ,: ,: , np.newaxis]\n",
    "trX.shape"
   ]
  },
  {
   "cell_type": "code",
   "execution_count": 7,
   "metadata": {},
   "outputs": [
    {
     "data": {
      "text/plain": [
       "(2960, 24)"
      ]
     },
     "execution_count": 7,
     "metadata": {},
     "output_type": "execute_result"
    }
   ],
   "source": [
    "inpv2 = np.zeros((4645,24))\n",
    "inpv2[:,0:24] = inp2.variables['nino'][:,12:36,0,0]\n",
    "\n",
    "# [2961, 24]\n",
    "\n",
    "\n",
    "trY = inpv2[:,:] \n",
    "trY.shape"
   ]
  },
  {
   "cell_type": "code",
   "execution_count": null,
   "metadata": {
    "scrolled": true
   },
   "outputs": [
    {
     "name": "stdout",
     "output_type": "stream",
     "text": [
      "WARNING:tensorflow:From D:\\Anaconda3\\lib\\site-packages\\tensorflow\\python\\ops\\math_ops.py:3066: to_int32 (from tensorflow.python.ops.math_ops) is deprecated and will be removed in a future version.\n",
      "Instructions for updating:\n",
      "Use tf.cast instead.\n",
      "Train on 950 samples, validate on 50 samples\n",
      "Epoch 1/100\n"
     ]
    }
   ],
   "source": [
    "#训练\n",
    "\n",
    "\n",
    "history = seq.fit(trX[:1000,:], trY[:1000,:], batch_size=16,\n",
    "        epochs=100, validation_split=0.05)\n"
   ]
  },
  {
   "cell_type": "code",
   "execution_count": null,
   "metadata": {},
   "outputs": [],
   "source": [
    "ensemble_clf = VotingClassifier(estimators=[\n",
    "    ('model1', model1), ('model2', model2), ('model3', model3)], voting='soft')\n",
    "\n",
    "ensemble_clf.fit(x_train, y_train)\n",
    "y_pred = ensemble_clf.predict(x_test)\n",
    "print('acc: ', accuracy_score(y_pred, y_test))"
   ]
  },
  {
   "cell_type": "code",
   "execution_count": null,
   "metadata": {},
   "outputs": [],
   "source": [
    "#test data \n",
    "inp11 = Dataset('GODAS.input.36mon.1980_2015.nc','r')\n",
    "inp22 = Dataset('GODAS.label.12mon.1982_2017.nc','r')\n",
    "\n",
    "#[字序列数，子序列长度，长，宽]\n",
    "inpv11 = np.zeros((35,24,24,72))\n",
    "\n",
    "#[35, 24, 24, 72]\n",
    "#通道压缩到序列中\n",
    "\n",
    "inpv11[:,0:12,:,:] = inp11.variables['sst'][0:35,12:24,:,:]\n",
    "\n",
    "inpv11[:,12:24,:,:] = inp11.variables['t300'][0:35,12:24,:,:]\n",
    "\n",
    "testX = inpv11[:,:,:,:]\n",
    "testX=testX[:, : ,: ,: , np.newaxis]\n",
    "print(testX.shape)\n",
    "\n",
    "\n",
    "inpv22 = np.zeros((35,24))\n",
    "inpv22[:,0:12] = inp22.variables['pr'][0:35,:,0,0]\n",
    "inpv22[:,12:24] = inp22.variables['pr'][1:36,:,0,0]\n",
    "\n",
    "# [35, 24]\n",
    "\n",
    "\n",
    "testY = inpv22[:,:] \n",
    "testY.shape"
   ]
  },
  {
   "cell_type": "code",
   "execution_count": null,
   "metadata": {},
   "outputs": [],
   "source": [
    "loss,accuracy = seq.evaluate(x = testX,y = testY)\n",
    "print(loss,accuracy)"
   ]
  },
  {
   "cell_type": "code",
   "execution_count": null,
   "metadata": {},
   "outputs": [],
   "source": [
    "seq.save('./data/keras_model.h5')  \n",
    "\n",
    "del model  #删除现有模型\n",
    "\n",
    "# identical to the previous one\n",
    "model = models.load_model('./data/keras_model.h5')\n",
    "model.evaluate(x_test,y_test)"
   ]
  },
  {
   "cell_type": "code",
   "execution_count": null,
   "metadata": {},
   "outputs": [],
   "source": [
    "\n",
    "import matplotlib.pyplot as plt\n",
    "\n",
    "def plot_metric(history, metric):\n",
    "    train_metrics = history.history[metric]\n",
    "    val_metrics = history.history['val_'+metric]\n",
    "    epochs = range(1, len(train_metrics) + 1)\n",
    "    plt.plot(epochs, train_metrics, 'bo--')\n",
    "    plt.plot(epochs, val_metrics, 'ro-')\n",
    "    plt.title('Training and validation '+ metric)\n",
    "    plt.xlabel(\"Epochs\")\n",
    "    plt.ylabel(metric)\n",
    "    plt.legend([\"train_\"+metric, 'val_'+metric])\n",
    "    plt.savefig('.\\\\data\\\\1.png')\n",
    "    plt.show()"
   ]
  },
  {
   "cell_type": "code",
   "execution_count": null,
   "metadata": {
    "scrolled": true
   },
   "outputs": [],
   "source": [
    "plot_metric(history,\"loss\")"
   ]
  },
  {
   "cell_type": "code",
   "execution_count": null,
   "metadata": {
    "scrolled": true
   },
   "outputs": [],
   "source": [
    "plot_metric(history,\"accuracy\")"
   ]
  }
 ],
 "metadata": {
  "kernelspec": {
   "display_name": "Python 3",
   "language": "python",
   "name": "python3"
  },
  "language_info": {
   "codemirror_mode": {
    "name": "ipython",
    "version": 3
   },
   "file_extension": ".py",
   "mimetype": "text/x-python",
   "name": "python",
   "nbconvert_exporter": "python",
   "pygments_lexer": "ipython3",
   "version": "3.7.9"
  }
 },
 "nbformat": 4,
 "nbformat_minor": 4
}
