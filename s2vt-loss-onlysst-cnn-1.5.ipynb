{
 "cells": [
  {
   "cell_type": "code",
   "execution_count": 1,
   "id": "aa131968",
   "metadata": {},
   "outputs": [],
   "source": [
    "import numpy as np\n",
    "import os, sys\n",
    "import pickle, functools, operator\n",
    "from tensorflow import keras\n",
    "from tensorflow.keras import layers\n",
    "from tensorflow.keras.models import Model, load_model\n",
    "from tensorflow.keras.layers import Input, LSTM, Dense\n",
    "from tensorflow.keras.callbacks import EarlyStopping, ModelCheckpoint\n",
    "import random #shuffle\n",
    "from tensorflow.keras.utils import plot_model\n",
    "import tensorflow as tf\n",
    "from netCDF4 import Dataset"
   ]
  },
  {
   "cell_type": "markdown",
   "id": "c1b4a5c5",
   "metadata": {},
   "source": [
    "## Data Processing"
   ]
  },
  {
   "cell_type": "code",
   "execution_count": 2,
   "id": "e9a6a590",
   "metadata": {},
   "outputs": [],
   "source": [
    "def CMIPdata(Xdata, Ydata, out , myform):\n",
    "    inp1 = Dataset(Xdata,'r')\n",
    "    inp2 = Dataset(Ydata,'r')\n",
    "    sst_1 = np.zeros((myform,140,12,24,72))\n",
    "\n",
    "    #首年序列\n",
    "    #i= 21个模式\n",
    "    for i in range(myform):\n",
    "        sst_1[i,:,:,:,:] = inp1.variables['sst1'][1+141*i:141+141*i,0:12,:,:]\n",
    "    #(21,140,12,24,72)\n",
    "    #首年序列\n",
    "\n",
    "    \n",
    "    #flatted扁平化                                             \n",
    "    sst_2 = np.zeros((myform,1680,24,72))\n",
    "    for i in range(myform):\n",
    "        for j in range(140):\n",
    "            sst_2[i,j*12:(j+1)*12,:,:] = sst_1[i,j,:,:,:]\n",
    "    \n",
    "        #(21,1680,24,72)\n",
    "        #每个模式 139*12+1 = 1680 个序列 序列长度为12\n",
    "\n",
    "    #丢弃1个月 1862.1\n",
    "    sst_2 = sst_2[:,1:,:,:]\n",
    "    #(form,1679,24,72)\n",
    "\n",
    "\n",
    "    winsize = 12\n",
    "    #winnum = 1679-winsize +1 #1668\n",
    "    \"\"\"跳跃六个月滑窗 = 6\"\"\"\n",
    "    ts=6 \n",
    "    #(1679-12)/6+1 =27\n",
    "    winnum=int((1679-12)/ts +1) \n",
    "    \n",
    "    sst_3 = np.zeros((myform,winnum,12,24,72))\n",
    "    for i in range(myform):\n",
    "        for j in range(winnum):\n",
    "            #print(j)\n",
    "            sst_3[i,j,:,:,:] = sst_2[i,(j*ts):(j*ts)+winsize,:,:]\n",
    "            \n",
    "\n",
    "    sst_4 = np.zeros((int(winnum*myform),12,24,72))\n",
    "    #t300_4 = np.zeros((int(winnum*myform),12,24,72))\n",
    "    for i in range(myform):\n",
    "        sst_4[i*winnum:(i+1)*winnum,:,:,:] = sst_3[i,:,:,:,:]\n",
    "\n",
    "\n",
    "    #sst_4 = sst_4.swapaxes(1, 3)\n",
    "    trX = sst_4\n",
    "    del sst_1,sst_2,sst_3,sst_4\n",
    "    #trX = trX.reshape(int(winnum*myform),12,1728)\n",
    "\n",
    "    #保存np数组\n",
    "    #(5859, 12, 24, 72, 2)\n",
    "    #np.save(\"./CMIPdata/CMIP_trX_21_ts6_out.npy\",trX) \n",
    "\n",
    "    #label\n",
    "    #平铺\n",
    "    pr_1 = np.zeros(((myform),1692))#21,1692\n",
    "    for i in range(myform):\n",
    "        for j in range(141):\n",
    "            pr_1[i,j*12:(j+1)*12] = inp2.variables['pr'][(141*i)+j,:,0,0]\n",
    "            \n",
    "    #out\n",
    "    pr_2 =  np.zeros((myform,winnum,out))#form,1668,1\n",
    "    for i in range(myform):\n",
    "        for j in range(winnum):\n",
    "            pr_2[i,j,:] = pr_1[i,(j*ts):(j*ts)+out]\n",
    "\n",
    "    trY = np.zeros((int(winnum*myform),out))#form*1668,1\n",
    "    for i in range(myform):\n",
    "        trY[i*winnum:(i+1)*winnum,:] = pr_2[i,:,:]\n",
    "\n",
    "    #np.save(\"./CMIPdata/CMIP_trY_21_ts6_out%s.npy\"%out,trY)\n",
    "    trY_decoder_input = np.zeros((int(winnum*myform),out))\n",
    "    trY_decoder_input[:,1:] = trY[:,:-1]\n",
    "\n",
    "    #return trX[1:,:,:] ,trY.reshape(-1,24,1)[1:,:,:] ,trY_decoder_input\n",
    "    return trX ,trY.reshape(-1,24,1) ,trY_decoder_input.reshape(-1,24,1)"
   ]
  },
  {
   "cell_type": "code",
   "execution_count": 3,
   "id": "14fa223d",
   "metadata": {},
   "outputs": [],
   "source": [
    "def SODAdata(Xdata, Ydata, out):\n",
    "    inp1 = Dataset(Xdata,'r')\n",
    "    inp2 = Dataset(Ydata,'r')\n",
    "\n",
    "    #time_step = 1 month                                               \n",
    "    sst_1 = np.zeros((99,12,24,72))\n",
    "\n",
    "    sst_1[:,:,:,:] = inp1.variables['sst'][1:,0:12,:,:]\n",
    "    #(99,12,24,72)\n",
    "    #1872-1970\n",
    "\n",
    "    sst_2 = np.zeros((1188,24,72))\n",
    "\n",
    "    for i in range(99):\n",
    "        sst_2[i*12:(i+1)*12,:,:] = sst_1[i,:,:,:]\n",
    "    #(1188,24,72)\n",
    "    #丢弃一个月，便于制作滑窗序列\n",
    "    sst_2 = sst_2[1:,:,:]\n",
    "\n",
    "    sst_3 = np.zeros((1176,12,24,72))\n",
    "    #滑窗\n",
    "    for i in range(1176):\n",
    "        sst_3[i:,:,:] = sst_2[i:i+12,:,:]\n",
    "    #(1176,12,24,72)\n",
    "\n",
    "\n",
    "    #channel = 2\n",
    "    #trX = np.zeros((1176,12,24,72,2))\n",
    "    #trX[:,:,:,:,0] = sst_3\n",
    "    #trX[:,:,:,:,1] = t300_3\n",
    "    sst_3 = sst_3.swapaxes(1, 3)\n",
    "    sst_3 = sst_3.swapaxes(1, 2)\n",
    "    trX = sst_3\n",
    "    del sst_1,sst_2,sst_3\n",
    "    #del t300_1,t300_2,t300_3\n",
    "\n",
    "    #保存np数组\n",
    "    #np.save(\"./SODAdata/SODA_trX_ts1_out.npy\",trX)\n",
    "\n",
    "    #label\n",
    "    inpv2 = np.zeros((1200))\n",
    "    for i in range(100):\n",
    "        inpv2[i*12:(i+1)*12] = inp2.variables['pr'][i,:,0,0]\n",
    "    #(1200)\n",
    "\n",
    "    #out = 1\n",
    "    trY = np.zeros((1176,out,1))\n",
    "    #滑窗\n",
    "    for i in range(1176):\n",
    "        trY[i,:,0] = inpv2[i:i+out]   \n",
    "    #(1176,out)\n",
    "    trY_decoder_input = np.zeros((1176,24,1))\n",
    "    trY_decoder_input[:,1:,:] = trY[:,:-1,:]\n",
    "\n",
    "    #np.save(\"./SODAdata/SODA_trY_ts1_out%s.npy\"%out,trY) \n",
    "    #(1176,12,24,72,2)\n",
    "    #(1176,out,1)\n",
    "    return trX ,trY, trY_decoder_input"
   ]
  },
  {
   "cell_type": "code",
   "execution_count": 3,
   "id": "b0c8dfcb",
   "metadata": {},
   "outputs": [],
   "source": [
    "def GOSDAdata(Xdata, Ydata, out):\n",
    "    #test data\n",
    "    inp11 = Dataset(Xdata,'r')\n",
    "    inp22 = Dataset(Ydata,'r')\n",
    "                                              \n",
    "    sst_11 = np.zeros((33,12,24,72)) #1983-2015\n",
    "    #t300_11 = np.zeros((33,12,24,72))\n",
    "\n",
    "    sst_11[:,:,:,:] = inp11.variables['sst'][3:,0:12,:,:]\n",
    "    #t300_11[:,:,:,:] = inp11.variables['t300'][3:,0:12,:,:]\n",
    "    #(33,12,24,72)\n",
    "\n",
    "    sst_22 = np.zeros((396,24,72))\n",
    "    #t300_22 = np.zeros((396,24,72))\n",
    "\n",
    "    for i in range(33):\n",
    "        sst_22[i*12:(i+1)*12,:,:] = sst_11[i,:,:,:]\n",
    "        #t300_22[i*12:(i+1)*12,:,:] = t300_11[i,:,:,:]\n",
    "    #(396,24,72)\n",
    "    #丢弃一个月，便于制作滑窗序列\n",
    "    sst_22 = sst_22[1:,:,:]\n",
    "    #t300_22 = t300_22[1:,:,:]#(395,24,72)\n",
    "\n",
    "    #滑窗\n",
    "    winsize = 12\n",
    "    winnum = 395-winsize + 1 #384\n",
    "    sst_33 = np.zeros((winnum, winsize, 24, 72))#(384, 12, 24, 72)\n",
    "    #t300_33 = np.zeros((winnum, winsize, 24, 72))\n",
    "\n",
    "    for i in range(winnum):\n",
    "        sst_33[i,:,:,:] = sst_22[i:i+12,:,:]\n",
    "        #t300_33[i,:,:,:] = t300_22[i:i+12,:,:]\n",
    "    #(384,12,24,72)\n",
    "\n",
    "\n",
    "    #channel = 2\n",
    "    #testX = np.zeros((winnum,12,24,72,2))#384\n",
    "    #testX[:,:,:,:,0] = sst_33\n",
    "    #testX[:,:,:,:,1] = t300_33\n",
    "    #sst_33 = sst_33.swapaxes(1, 3)\n",
    "\n",
    "    testX = sst_33#384\n",
    "    #testX[:,:,:,1] = t300_33.reshape(384,12,1728)\n",
    "    del sst_11,sst_22,sst_33\n",
    "    #del t300_11,t300_22,t300_33\n",
    "    #testX = testX.reshape(384,12,3456)\n",
    "\n",
    "    #label\n",
    "    inpv22 = np.zeros((408))#2017-1984 +1=34\n",
    "    for i in range(34):\n",
    "        inpv22[i*12:(i+1)*12] = inp22.variables['pr'][i+2,:,0,0]# +2:从1984开始\n",
    "        #(408)\n",
    "\n",
    "    testY = np.zeros((winnum,out,1))\n",
    "    #out = 1\n",
    "    #滑窗\n",
    "    for i in range(winnum):\n",
    "        testY[i,:,0] = inpv22[i:i+out]#24\n",
    "    #(384,out,1)\n",
    "\n",
    "    return testX, testY"
   ]
  },
  {
   "cell_type": "code",
   "execution_count": 14,
   "id": "169cb4c0",
   "metadata": {},
   "outputs": [],
   "source": [
    "#修改output长度\n",
    "def set_output(Y, startout, endout):\n",
    "    outlen = endout-startout+1\n",
    "    trY = np.zeros((Y.shape[0],outlen,1))\n",
    "    trY_decoder_input = np.zeros((Y.shape[0],outlen,1))\n",
    "    \n",
    "    trY = Y[:,(startout-1):endout,:]\n",
    "    trY_decoder_input[:,1:,:] = trY[:,:-1,:]\n",
    "    \n",
    "    return trY, trY_decoder_input"
   ]
  },
  {
   "cell_type": "code",
   "execution_count": 97,
   "id": "aa07b90f",
   "metadata": {},
   "outputs": [
    {
     "ename": "NameError",
     "evalue": "name 'SODAdata' is not defined",
     "output_type": "error",
     "traceback": [
      "\u001b[0;31m---------------------------------------------------------------------------\u001b[0m",
      "\u001b[0;31mNameError\u001b[0m                                 Traceback (most recent call last)",
      "\u001b[0;32m/tmp/ipykernel_5068/3479995584.py\u001b[0m in \u001b[0;36m<module>\u001b[0;34m\u001b[0m\n\u001b[0;32m----> 1\u001b[0;31m trX, trY, trY_decoder_input= SODAdata('/home/d/Q/saconvlstm/SODA.input.36mon.1871_1970.nc', \\\n\u001b[0m\u001b[1;32m      2\u001b[0m                                       '/home/d/Q/saconvlstm/SODA.label.12mon.1873_1972.nc', 24)\n",
      "\u001b[0;31mNameError\u001b[0m: name 'SODAdata' is not defined"
     ]
    }
   ],
   "source": [
    "\n",
    "trX, trY, trY_decoder_input= SODAdata('/home/d/Q/saconvlstm/SODA.input.36mon.1871_1970.nc', \\\n",
    "                                      '/home/d/Q/saconvlstm/SODA.label.12mon.1873_1972.nc', 24)"
   ]
  },
  {
   "cell_type": "code",
   "execution_count": 12,
   "id": "76776224",
   "metadata": {},
   "outputs": [],
   "source": [
    "\n",
    "trX1, trY1, trY_decoder_input1 = CMIPdata('/home/d/Q/saconvlstm/CMIP5.input.36mon.1861_2001.nc',\\\n",
    "                                          '/home/d/Q/saconvlstm/CMIP5.label.12mon.1863_2003.nc', 24,  21)"
   ]
  },
  {
   "cell_type": "code",
   "execution_count": 13,
   "id": "f2c89c30",
   "metadata": {},
   "outputs": [],
   "source": [
    "trX = np.append(trX, trX1, axis=0)\n",
    "trY = np.append(trY, trY1, axis=0)\n",
    "trY_decoder_input = np.append(trY_decoder_input, trY_decoder_input1, axis=0)"
   ]
  },
  {
   "cell_type": "code",
   "execution_count": 4,
   "id": "c6622d69",
   "metadata": {},
   "outputs": [],
   "source": [
    "trX, trY, trY_decoder_input = CMIPdata('/home/d/Q/saconvlstm/CMIP5.input.36mon.1861_2001.nc',\\\n",
    "                                          '/home/d/Q/saconvlstm/CMIP5.label.12mon.1863_2003.nc', 24,  21)"
   ]
  },
  {
   "cell_type": "code",
   "execution_count": 5,
   "id": "ab1bfa15",
   "metadata": {},
   "outputs": [],
   "source": [
    "testX, testY = GOSDAdata('/home/d/Q/saconvlstm/GODAS.input.36mon.1980_2015.nc',\\\n",
    "                         '/home/d/Q/saconvlstm/GODAS.label.12mon.1982_2017.nc', 24)"
   ]
  },
  {
   "cell_type": "code",
   "execution_count": 6,
   "id": "86edaf94",
   "metadata": {},
   "outputs": [],
   "source": [
    "indices = np.arange(trX.shape[0])\n",
    "np.random.shuffle(indices)\n",
    "trX = trX[indices]\n",
    "trY = trY[indices]\n",
    "trY_decoder_input = trY_decoder_input[indices]"
   ]
  },
  {
   "cell_type": "code",
   "execution_count": 7,
   "id": "6632bd95",
   "metadata": {},
   "outputs": [
    {
     "data": {
      "text/plain": [
       "1176"
      ]
     },
     "execution_count": 7,
     "metadata": {},
     "output_type": "execute_result"
    }
   ],
   "source": [
    "trX.shape[0]"
   ]
  },
  {
   "cell_type": "code",
   "execution_count": 7,
   "id": "cde30642",
   "metadata": {},
   "outputs": [],
   "source": [
    "trY, trY_decoder_input = set_output(trY, 7, 9)"
   ]
  },
  {
   "cell_type": "code",
   "execution_count": 6,
   "id": "1e439748",
   "metadata": {},
   "outputs": [
    {
     "ename": "NameError",
     "evalue": "name 'set_output' is not defined",
     "output_type": "error",
     "traceback": [
      "\u001b[0;31m---------------------------------------------------------------------------\u001b[0m",
      "\u001b[0;31mNameError\u001b[0m                                 Traceback (most recent call last)",
      "\u001b[0;32m/tmp/ipykernel_1989998/3871577513.py\u001b[0m in \u001b[0;36m<module>\u001b[0;34m\u001b[0m\n\u001b[0;32m----> 1\u001b[0;31m \u001b[0mtrY1\u001b[0m\u001b[0;34m,\u001b[0m \u001b[0mtrY_decoder_input1\u001b[0m \u001b[0;34m=\u001b[0m \u001b[0mset_output\u001b[0m\u001b[0;34m(\u001b[0m\u001b[0mtrY1\u001b[0m\u001b[0;34m,\u001b[0m \u001b[0;36m14\u001b[0m\u001b[0;34m,\u001b[0m \u001b[0;36m17\u001b[0m\u001b[0;34m)\u001b[0m\u001b[0;34m\u001b[0m\u001b[0;34m\u001b[0m\u001b[0m\n\u001b[0m",
      "\u001b[0;31mNameError\u001b[0m: name 'set_output' is not defined"
     ]
    }
   ],
   "source": [
    "trY1, trY_decoder_input1 = set_output(trY1, 7, 9)"
   ]
  },
  {
   "cell_type": "code",
   "execution_count": 15,
   "id": "9d02df42",
   "metadata": {},
   "outputs": [
    {
     "ename": "ValueError",
     "evalue": "could not broadcast input array from shape (384,0,1) into shape (384,2,1)",
     "output_type": "error",
     "traceback": [
      "\u001b[0;31m---------------------------------------------------------------------------\u001b[0m",
      "\u001b[0;31mValueError\u001b[0m                                Traceback (most recent call last)",
      "\u001b[0;32m/tmp/ipykernel_207854/1666253313.py\u001b[0m in \u001b[0;36m<module>\u001b[0;34m\u001b[0m\n\u001b[0;32m----> 1\u001b[0;31m \u001b[0mtestY\u001b[0m\u001b[0;34m,\u001b[0m\u001b[0m_\u001b[0m \u001b[0;34m=\u001b[0m \u001b[0mset_output\u001b[0m\u001b[0;34m(\u001b[0m\u001b[0mtestY\u001b[0m\u001b[0;34m,\u001b[0m \u001b[0;36m7\u001b[0m\u001b[0;34m,\u001b[0m \u001b[0;36m9\u001b[0m\u001b[0;34m)\u001b[0m\u001b[0;34m\u001b[0m\u001b[0;34m\u001b[0m\u001b[0m\n\u001b[0m",
      "\u001b[0;32m/tmp/ipykernel_207854/4286748425.py\u001b[0m in \u001b[0;36mset_output\u001b[0;34m(Y, startout, endout)\u001b[0m\n\u001b[1;32m      6\u001b[0m \u001b[0;34m\u001b[0m\u001b[0m\n\u001b[1;32m      7\u001b[0m     \u001b[0mtrY\u001b[0m \u001b[0;34m=\u001b[0m \u001b[0mY\u001b[0m\u001b[0;34m[\u001b[0m\u001b[0;34m:\u001b[0m\u001b[0;34m,\u001b[0m\u001b[0;34m(\u001b[0m\u001b[0mstartout\u001b[0m\u001b[0;34m-\u001b[0m\u001b[0;36m1\u001b[0m\u001b[0;34m)\u001b[0m\u001b[0;34m:\u001b[0m\u001b[0mendout\u001b[0m\u001b[0;34m,\u001b[0m\u001b[0;34m:\u001b[0m\u001b[0;34m]\u001b[0m\u001b[0;34m\u001b[0m\u001b[0;34m\u001b[0m\u001b[0m\n\u001b[0;32m----> 8\u001b[0;31m     \u001b[0mtrY_decoder_input\u001b[0m\u001b[0;34m[\u001b[0m\u001b[0;34m:\u001b[0m\u001b[0;34m,\u001b[0m\u001b[0;36m1\u001b[0m\u001b[0;34m:\u001b[0m\u001b[0;34m,\u001b[0m\u001b[0;34m:\u001b[0m\u001b[0;34m]\u001b[0m \u001b[0;34m=\u001b[0m \u001b[0mtrY\u001b[0m\u001b[0;34m[\u001b[0m\u001b[0;34m:\u001b[0m\u001b[0;34m,\u001b[0m\u001b[0;34m:\u001b[0m\u001b[0;34m-\u001b[0m\u001b[0;36m1\u001b[0m\u001b[0;34m,\u001b[0m\u001b[0;34m:\u001b[0m\u001b[0;34m]\u001b[0m\u001b[0;34m\u001b[0m\u001b[0;34m\u001b[0m\u001b[0m\n\u001b[0m\u001b[1;32m      9\u001b[0m \u001b[0;34m\u001b[0m\u001b[0m\n\u001b[1;32m     10\u001b[0m     \u001b[0;32mreturn\u001b[0m \u001b[0mtrY\u001b[0m\u001b[0;34m,\u001b[0m \u001b[0mtrY_decoder_input\u001b[0m\u001b[0;34m\u001b[0m\u001b[0;34m\u001b[0m\u001b[0m\n",
      "\u001b[0;31mValueError\u001b[0m: could not broadcast input array from shape (384,0,1) into shape (384,2,1)"
     ]
    }
   ],
   "source": [
    "testY,_ = set_output(testY, 7, 9)"
   ]
  },
  {
   "cell_type": "markdown",
   "id": "9971159a",
   "metadata": {},
   "source": [
    "## Check data"
   ]
  },
  {
   "cell_type": "code",
   "execution_count": 7,
   "id": "25e86b09",
   "metadata": {},
   "outputs": [
    {
     "name": "stdout",
     "output_type": "stream",
     "text": [
      "(384, 12, 24, 72)\n",
      "(384, 24, 1)\n"
     ]
    }
   ],
   "source": [
    "print(testX.shape)\n",
    "print(testY.shape)"
   ]
  },
  {
   "cell_type": "code",
   "execution_count": 8,
   "id": "7949d97f",
   "metadata": {},
   "outputs": [
    {
     "name": "stdout",
     "output_type": "stream",
     "text": [
      "(5838, 12, 24, 72)\n",
      "(5838, 24, 1)\n",
      "(5838, 24, 1)\n"
     ]
    }
   ],
   "source": [
    "print(trX.shape)\n",
    "print(trY.shape)\n",
    "print(trY_decoder_input.shape)"
   ]
  },
  {
   "cell_type": "code",
   "execution_count": 11,
   "id": "b511b897",
   "metadata": {
    "scrolled": true
   },
   "outputs": [
    {
     "data": {
      "text/plain": [
       "array([[0.2531122 ],\n",
       "       [0.29597503],\n",
       "       [0.30558223]])"
      ]
     },
     "execution_count": 11,
     "metadata": {},
     "output_type": "execute_result"
    }
   ],
   "source": [
    "trY[2000,:,:]"
   ]
  },
  {
   "cell_type": "code",
   "execution_count": 12,
   "id": "2eaea5cc",
   "metadata": {
    "scrolled": true
   },
   "outputs": [
    {
     "data": {
      "text/plain": [
       "array([[0.        ],\n",
       "       [0.2531122 ],\n",
       "       [0.29597503]])"
      ]
     },
     "execution_count": 12,
     "metadata": {},
     "output_type": "execute_result"
    }
   ],
   "source": [
    "trY_decoder_input[2000,:,:]"
   ]
  },
  {
   "cell_type": "markdown",
   "id": "408679a3",
   "metadata": {},
   "source": [
    "## Model"
   ]
  },
  {
   "cell_type": "code",
   "execution_count": 22,
   "id": "1d6c8749",
   "metadata": {
    "scrolled": false
   },
   "outputs": [
    {
     "name": "stdout",
     "output_type": "stream",
     "text": [
      "Model: \"functional_9\"\n",
      "_________________________________________________________________\n",
      "Layer (type)                 Output Shape              Param #   \n",
      "=================================================================\n",
      "input_6 (InputLayer)         [(None, 72, 24, 1)]       0         \n",
      "_________________________________________________________________\n",
      "conv2d_6 (Conv2D)            (None, 72, 24, 30)        990       \n",
      "_________________________________________________________________\n",
      "tf_op_layer_MaxPool_4 (Tenso [(None, 36, 12, 30)]      0         \n",
      "_________________________________________________________________\n",
      "conv2d_7 (Conv2D)            (None, 36, 12, 30)        7230      \n",
      "_________________________________________________________________\n",
      "tf_op_layer_MaxPool_5 (Tenso [(None, 18, 6, 30)]       0         \n",
      "_________________________________________________________________\n",
      "conv2d_8 (Conv2D)            (None, 18, 6, 30)         7230      \n",
      "_________________________________________________________________\n",
      "tf_op_layer_Reshape_26 (Tens [(None, 3240)]            0         \n",
      "=================================================================\n",
      "Total params: 15,450\n",
      "Trainable params: 15,450\n",
      "Non-trainable params: 0\n",
      "_________________________________________________________________\n"
     ]
    }
   ],
   "source": [
    "\n",
    "w4 = [30 * 18 * 6, 30]\n",
    "\n",
    "\n",
    "input_cnn = Input(shape=(72,24,1))\n",
    "\n",
    "x = layers.Conv2D(30, (8,4), activation='tanh', padding='SAME')(input_cnn)\n",
    "x = tf.nn.max_pool(x, ksize=[1, 2, 2, 1], strides=[1, 2, 2, 1], padding='SAME')\n",
    "\n",
    "x = layers.Conv2D(30, (4,2), activation='tanh', padding='SAME')(x)\n",
    "x = tf.nn.max_pool(x, ksize=[1, 2, 2, 1], strides=[1, 2, 2, 1], padding='SAME')\n",
    "\n",
    "x = layers.Conv2D(30, (4,2), activation='tanh', padding='SAME')(x)\n",
    "x = tf.reshape(x, [-1, w4[0]])\n",
    "outputs_cnn = x\n",
    "model_cnn = Model(input_cnn,outputs_cnn)\n",
    "model_cnn.summary()\n",
    "#tf.keras.utils.plot_model(model_cnn, to_file='model_train.png', show_shapes=True, show_layer_names=True)"
   ]
  },
  {
   "cell_type": "code",
   "execution_count": 3,
   "id": "c9622eeb",
   "metadata": {},
   "outputs": [
    {
     "data": {
      "text/plain": [
       "<tf.Tensor 'strided_slice:0' shape=(None, 72, 24) dtype=float32>"
      ]
     },
     "execution_count": 3,
     "metadata": {},
     "output_type": "execute_result"
    }
   ],
   "source": [
    "_input = Input(shape=(72,24,12))\n",
    "_input[:,:,:,0]"
   ]
  },
  {
   "cell_type": "code",
   "execution_count": 23,
   "id": "d82d8675",
   "metadata": {
    "scrolled": true
   },
   "outputs": [],
   "source": [
    "_input = Input(shape=(72,24,12))\n",
    "x1 = model_cnn(_input[:,:,:,0])\n",
    "x2 = model_cnn(_input[:,:,:,1])\n",
    "x3 = model_cnn(_input[:,:,:,2])\n",
    "x4 = model_cnn(_input[:,:,:,3])\n",
    "x5 = model_cnn(_input[:,:,:,4])\n",
    "x6 = model_cnn(_input[:,:,:,5])\n",
    "x7 = model_cnn(_input[:,:,:,6])\n",
    "x8 = model_cnn(_input[:,:,:,7])\n",
    "x9 = model_cnn(_input[:,:,:,8])\n",
    "x10 = model_cnn(_input[:,:,:,9])\n",
    "x11 = model_cnn(_input[:,:,:,10])\n",
    "x12 = model_cnn(_input[:,:,:,11])\n",
    "\n",
    "x1 = tf.reshape(x1, [-1, 1, 3240])\n",
    "x2 = tf.reshape(x2, [-1, 1, 3240])\n",
    "x3 = tf.reshape(x3, [-1, 1, 3240])\n",
    "x4 = tf.reshape(x4, [-1, 1, 3240])\n",
    "x5 = tf.reshape(x5, [-1, 1, 3240])\n",
    "x6 = tf.reshape(x6, [-1, 1, 3240])\n",
    "x7 = tf.reshape(x7, [-1, 1, 3240])\n",
    "x8 = tf.reshape(x8, [-1, 1, 3240])\n",
    "x9 = tf.reshape(x9, [-1, 1, 3240])\n",
    "x10 = tf.reshape(x10, [-1, 1, 3240])\n",
    "x11 = tf.reshape(x11, [-1, 1, 3240])\n",
    "x12 = tf.reshape(x12, [-1, 1, 3240])\n",
    "\n",
    "output = layers.concatenate([x1,x2,x3,x4,x5,x6,x7,x8,x9,x10,x11,x12], axis=1)#(None, 12,3240)"
   ]
  },
  {
   "cell_type": "code",
   "execution_count": 24,
   "id": "19153e1c",
   "metadata": {},
   "outputs": [],
   "source": [
    "time_steps_encoder=12\n",
    "#num_encoder_tokens=3456\n",
    "num_encoder_tokens=3240\n",
    "latent_dim=512\n",
    "time_steps_decoder=24\n",
    "#time_steps_decoder=3\n",
    "num_decoder_tokens=1"
   ]
  },
  {
   "cell_type": "code",
   "execution_count": 25,
   "id": "20ae9de5",
   "metadata": {
    "scrolled": false
   },
   "outputs": [
    {
     "name": "stdout",
     "output_type": "stream",
     "text": [
      "Model: \"functional_11\"\n",
      "__________________________________________________________________________________________________\n",
      "Layer (type)                    Output Shape         Param #     Connected to                     \n",
      "==================================================================================================\n",
      "input_7 (InputLayer)            [(None, 72, 24, 12)] 0                                            \n",
      "__________________________________________________________________________________________________\n",
      "tf_op_layer_strided_slice_25 (T [(None, 72, 24)]     0           input_7[0][0]                    \n",
      "__________________________________________________________________________________________________\n",
      "tf_op_layer_strided_slice_26 (T [(None, 72, 24)]     0           input_7[0][0]                    \n",
      "__________________________________________________________________________________________________\n",
      "tf_op_layer_strided_slice_27 (T [(None, 72, 24)]     0           input_7[0][0]                    \n",
      "__________________________________________________________________________________________________\n",
      "tf_op_layer_strided_slice_28 (T [(None, 72, 24)]     0           input_7[0][0]                    \n",
      "__________________________________________________________________________________________________\n",
      "tf_op_layer_strided_slice_29 (T [(None, 72, 24)]     0           input_7[0][0]                    \n",
      "__________________________________________________________________________________________________\n",
      "tf_op_layer_strided_slice_30 (T [(None, 72, 24)]     0           input_7[0][0]                    \n",
      "__________________________________________________________________________________________________\n",
      "tf_op_layer_strided_slice_31 (T [(None, 72, 24)]     0           input_7[0][0]                    \n",
      "__________________________________________________________________________________________________\n",
      "tf_op_layer_strided_slice_32 (T [(None, 72, 24)]     0           input_7[0][0]                    \n",
      "__________________________________________________________________________________________________\n",
      "tf_op_layer_strided_slice_33 (T [(None, 72, 24)]     0           input_7[0][0]                    \n",
      "__________________________________________________________________________________________________\n",
      "tf_op_layer_strided_slice_34 (T [(None, 72, 24)]     0           input_7[0][0]                    \n",
      "__________________________________________________________________________________________________\n",
      "tf_op_layer_strided_slice_35 (T [(None, 72, 24)]     0           input_7[0][0]                    \n",
      "__________________________________________________________________________________________________\n",
      "tf_op_layer_strided_slice_36 (T [(None, 72, 24)]     0           input_7[0][0]                    \n",
      "__________________________________________________________________________________________________\n",
      "functional_9 (Functional)       (None, 3240)         15450       tf_op_layer_strided_slice_25[0][0\n",
      "                                                                 tf_op_layer_strided_slice_26[0][0\n",
      "                                                                 tf_op_layer_strided_slice_27[0][0\n",
      "                                                                 tf_op_layer_strided_slice_28[0][0\n",
      "                                                                 tf_op_layer_strided_slice_29[0][0\n",
      "                                                                 tf_op_layer_strided_slice_30[0][0\n",
      "                                                                 tf_op_layer_strided_slice_31[0][0\n",
      "                                                                 tf_op_layer_strided_slice_32[0][0\n",
      "                                                                 tf_op_layer_strided_slice_33[0][0\n",
      "                                                                 tf_op_layer_strided_slice_34[0][0\n",
      "                                                                 tf_op_layer_strided_slice_35[0][0\n",
      "                                                                 tf_op_layer_strided_slice_36[0][0\n",
      "__________________________________________________________________________________________________\n",
      "tf_op_layer_Reshape_27 (TensorF [(None, 1, 3240)]    0           functional_9[0][0]               \n",
      "__________________________________________________________________________________________________\n",
      "tf_op_layer_Reshape_28 (TensorF [(None, 1, 3240)]    0           functional_9[1][0]               \n",
      "__________________________________________________________________________________________________\n",
      "tf_op_layer_Reshape_29 (TensorF [(None, 1, 3240)]    0           functional_9[2][0]               \n",
      "__________________________________________________________________________________________________\n",
      "tf_op_layer_Reshape_30 (TensorF [(None, 1, 3240)]    0           functional_9[3][0]               \n",
      "__________________________________________________________________________________________________\n",
      "tf_op_layer_Reshape_31 (TensorF [(None, 1, 3240)]    0           functional_9[4][0]               \n",
      "__________________________________________________________________________________________________\n",
      "tf_op_layer_Reshape_32 (TensorF [(None, 1, 3240)]    0           functional_9[5][0]               \n",
      "__________________________________________________________________________________________________\n",
      "tf_op_layer_Reshape_33 (TensorF [(None, 1, 3240)]    0           functional_9[6][0]               \n",
      "__________________________________________________________________________________________________\n",
      "tf_op_layer_Reshape_34 (TensorF [(None, 1, 3240)]    0           functional_9[7][0]               \n",
      "__________________________________________________________________________________________________\n",
      "tf_op_layer_Reshape_35 (TensorF [(None, 1, 3240)]    0           functional_9[8][0]               \n",
      "__________________________________________________________________________________________________\n",
      "tf_op_layer_Reshape_36 (TensorF [(None, 1, 3240)]    0           functional_9[9][0]               \n",
      "__________________________________________________________________________________________________\n",
      "tf_op_layer_Reshape_37 (TensorF [(None, 1, 3240)]    0           functional_9[10][0]              \n",
      "__________________________________________________________________________________________________\n",
      "tf_op_layer_Reshape_38 (TensorF [(None, 1, 3240)]    0           functional_9[11][0]              \n",
      "__________________________________________________________________________________________________\n",
      "concatenate_2 (Concatenate)     (None, 12, 3240)     0           tf_op_layer_Reshape_27[0][0]     \n",
      "                                                                 tf_op_layer_Reshape_28[0][0]     \n",
      "                                                                 tf_op_layer_Reshape_29[0][0]     \n",
      "                                                                 tf_op_layer_Reshape_30[0][0]     \n",
      "                                                                 tf_op_layer_Reshape_31[0][0]     \n",
      "                                                                 tf_op_layer_Reshape_32[0][0]     \n",
      "                                                                 tf_op_layer_Reshape_33[0][0]     \n",
      "                                                                 tf_op_layer_Reshape_34[0][0]     \n",
      "                                                                 tf_op_layer_Reshape_35[0][0]     \n",
      "                                                                 tf_op_layer_Reshape_36[0][0]     \n",
      "                                                                 tf_op_layer_Reshape_37[0][0]     \n",
      "                                                                 tf_op_layer_Reshape_38[0][0]     \n",
      "__________________________________________________________________________________________________\n",
      "decoder_inputs (InputLayer)     [(None, 24, 1)]      0                                            \n",
      "__________________________________________________________________________________________________\n",
      "endcoder_lstm (LSTM)            [(None, 12, 512), (N 7686144     concatenate_2[0][0]              \n",
      "__________________________________________________________________________________________________\n",
      "decoder_lstm (LSTM)             [(None, 24, 512), (N 1052672     decoder_inputs[0][0]             \n",
      "                                                                 endcoder_lstm[0][1]              \n",
      "                                                                 endcoder_lstm[0][2]              \n",
      "__________________________________________________________________________________________________\n",
      "dense_2 (Dense)                 (None, 24, 512)      262656      decoder_lstm[0][0]               \n",
      "__________________________________________________________________________________________________\n",
      "decoder_out (Dense)             (None, 24, 1)        513         dense_2[0][0]                    \n",
      "==================================================================================================\n",
      "Total params: 9,017,435\n",
      "Trainable params: 9,017,435\n",
      "Non-trainable params: 0\n",
      "__________________________________________________________________________________________________\n"
     ]
    }
   ],
   "source": [
    "encoder_inputs = output\n",
    "\"\"\"后为特征数，前为批次数量！！！\"\"\"\n",
    "encoder = LSTM(latent_dim, return_state=True,return_sequences=True, name='endcoder_lstm')\n",
    "# 需要取得LSTM的内部state, 因此设定\"return_state=True\"\n",
    "_, state_h, state_c = encoder(encoder_inputs)\n",
    "# 我们抛弃掉`encoder_outputs`因为我们只需要LSTM cell的内部state参数\n",
    "encoder_states = [state_h, state_c]\n",
    "\n",
    "# Set up the decoder\n",
    "decoder_inputs = Input(shape=(time_steps_decoder, num_decoder_tokens), name= \"decoder_inputs\")\n",
    "# 我们设定我们的解码器回传整个输出的序列同时也回传内部的states参数\n",
    "decoder_lstm = LSTM(latent_dim, return_sequences=True, return_state=True, name='decoder_lstm')\n",
    "# 我们使用`encoder_states`来做为初始值(initial state) <-- 重要\n",
    "decoder_outputs, _, _ = decoder_lstm(decoder_inputs, initial_state=encoder_states)\n",
    "decoder_dense1 = Dense(latent_dim, activation ='tanh')\n",
    "decoder_outputs = decoder_dense1(decoder_outputs)\n",
    "decoder_dense = Dense(num_decoder_tokens, name='decoder_out')\n",
    "decoder_outputs = decoder_dense(decoder_outputs)\n",
    "\n",
    "# 定义一个模型接收encoder_input_data` & `decoder_input_data`做为输入而输出`decoder_target_data`\n",
    "model = Model([_input, decoder_inputs], decoder_outputs)\n",
    "model.summary()\n",
    "#plot_model(model, to_file='model_train.png', show_shapes=True, show_layer_names=True)"
   ]
  },
  {
   "cell_type": "markdown",
   "id": "ee76fb1d",
   "metadata": {},
   "source": [
    "## Train"
   ]
  },
  {
   "cell_type": "code",
   "execution_count": 26,
   "id": "656d3b40",
   "metadata": {
    "scrolled": true
   },
   "outputs": [
    {
     "name": "stdout",
     "output_type": "stream",
     "text": [
      "Epoch 1/100\n",
      "WARNING:tensorflow:Model was constructed with shape (None, 72, 24, 12) for input Tensor(\"input_7:0\", shape=(None, 72, 24, 12), dtype=float32), but it was called on an input with incompatible shape (None, 12, 24, 72).\n",
      "WARNING:tensorflow:Model was constructed with shape (None, 72, 24, 1) for input Tensor(\"input_6:0\", shape=(None, 72, 24, 1), dtype=float32), but it was called on an input with incompatible shape (None, 12, 24, 1).\n",
      "WARNING:tensorflow:Model was constructed with shape (None, 72, 24, 1) for input Tensor(\"input_6:0\", shape=(None, 72, 24, 1), dtype=float32), but it was called on an input with incompatible shape (None, 12, 24, 1).\n",
      "WARNING:tensorflow:Model was constructed with shape (None, 72, 24, 1) for input Tensor(\"input_6:0\", shape=(None, 72, 24, 1), dtype=float32), but it was called on an input with incompatible shape (None, 12, 24, 1).\n",
      "WARNING:tensorflow:Model was constructed with shape (None, 72, 24, 1) for input Tensor(\"input_6:0\", shape=(None, 72, 24, 1), dtype=float32), but it was called on an input with incompatible shape (None, 12, 24, 1).\n",
      "WARNING:tensorflow:Model was constructed with shape (None, 72, 24, 1) for input Tensor(\"input_6:0\", shape=(None, 72, 24, 1), dtype=float32), but it was called on an input with incompatible shape (None, 12, 24, 1).\n",
      "WARNING:tensorflow:Model was constructed with shape (None, 72, 24, 1) for input Tensor(\"input_6:0\", shape=(None, 72, 24, 1), dtype=float32), but it was called on an input with incompatible shape (None, 12, 24, 1).\n",
      "WARNING:tensorflow:Model was constructed with shape (None, 72, 24, 1) for input Tensor(\"input_6:0\", shape=(None, 72, 24, 1), dtype=float32), but it was called on an input with incompatible shape (None, 12, 24, 1).\n",
      "WARNING:tensorflow:Model was constructed with shape (None, 72, 24, 1) for input Tensor(\"input_6:0\", shape=(None, 72, 24, 1), dtype=float32), but it was called on an input with incompatible shape (None, 12, 24, 1).\n",
      "WARNING:tensorflow:Model was constructed with shape (None, 72, 24, 1) for input Tensor(\"input_6:0\", shape=(None, 72, 24, 1), dtype=float32), but it was called on an input with incompatible shape (None, 12, 24, 1).\n",
      "WARNING:tensorflow:Model was constructed with shape (None, 72, 24, 1) for input Tensor(\"input_6:0\", shape=(None, 72, 24, 1), dtype=float32), but it was called on an input with incompatible shape (None, 12, 24, 1).\n",
      "WARNING:tensorflow:Model was constructed with shape (None, 72, 24, 1) for input Tensor(\"input_6:0\", shape=(None, 72, 24, 1), dtype=float32), but it was called on an input with incompatible shape (None, 12, 24, 1).\n",
      "WARNING:tensorflow:Model was constructed with shape (None, 72, 24, 1) for input Tensor(\"input_6:0\", shape=(None, 72, 24, 1), dtype=float32), but it was called on an input with incompatible shape (None, 12, 24, 1).\n",
      "WARNING:tensorflow:Model was constructed with shape (None, 72, 24, 12) for input Tensor(\"input_7:0\", shape=(None, 72, 24, 12), dtype=float32), but it was called on an input with incompatible shape (None, 12, 24, 72).\n",
      "WARNING:tensorflow:Model was constructed with shape (None, 72, 24, 1) for input Tensor(\"input_6:0\", shape=(None, 72, 24, 1), dtype=float32), but it was called on an input with incompatible shape (None, 12, 24, 1).\n",
      "WARNING:tensorflow:Model was constructed with shape (None, 72, 24, 1) for input Tensor(\"input_6:0\", shape=(None, 72, 24, 1), dtype=float32), but it was called on an input with incompatible shape (None, 12, 24, 1).\n",
      "WARNING:tensorflow:Model was constructed with shape (None, 72, 24, 1) for input Tensor(\"input_6:0\", shape=(None, 72, 24, 1), dtype=float32), but it was called on an input with incompatible shape (None, 12, 24, 1).\n",
      "WARNING:tensorflow:Model was constructed with shape (None, 72, 24, 1) for input Tensor(\"input_6:0\", shape=(None, 72, 24, 1), dtype=float32), but it was called on an input with incompatible shape (None, 12, 24, 1).\n",
      "WARNING:tensorflow:Model was constructed with shape (None, 72, 24, 1) for input Tensor(\"input_6:0\", shape=(None, 72, 24, 1), dtype=float32), but it was called on an input with incompatible shape (None, 12, 24, 1).\n",
      "WARNING:tensorflow:Model was constructed with shape (None, 72, 24, 1) for input Tensor(\"input_6:0\", shape=(None, 72, 24, 1), dtype=float32), but it was called on an input with incompatible shape (None, 12, 24, 1).\n",
      "WARNING:tensorflow:Model was constructed with shape (None, 72, 24, 1) for input Tensor(\"input_6:0\", shape=(None, 72, 24, 1), dtype=float32), but it was called on an input with incompatible shape (None, 12, 24, 1).\n",
      "WARNING:tensorflow:Model was constructed with shape (None, 72, 24, 1) for input Tensor(\"input_6:0\", shape=(None, 72, 24, 1), dtype=float32), but it was called on an input with incompatible shape (None, 12, 24, 1).\n",
      "WARNING:tensorflow:Model was constructed with shape (None, 72, 24, 1) for input Tensor(\"input_6:0\", shape=(None, 72, 24, 1), dtype=float32), but it was called on an input with incompatible shape (None, 12, 24, 1).\n",
      "WARNING:tensorflow:Model was constructed with shape (None, 72, 24, 1) for input Tensor(\"input_6:0\", shape=(None, 72, 24, 1), dtype=float32), but it was called on an input with incompatible shape (None, 12, 24, 1).\n",
      "WARNING:tensorflow:Model was constructed with shape (None, 72, 24, 1) for input Tensor(\"input_6:0\", shape=(None, 72, 24, 1), dtype=float32), but it was called on an input with incompatible shape (None, 12, 24, 1).\n",
      "WARNING:tensorflow:Model was constructed with shape (None, 72, 24, 1) for input Tensor(\"input_6:0\", shape=(None, 72, 24, 1), dtype=float32), but it was called on an input with incompatible shape (None, 12, 24, 1).\n"
     ]
    },
    {
     "ename": "InvalidArgumentError",
     "evalue": " Input to reshape is a tensor with 34560 values, but the requested shape requires a multiple of 3240\n\t [[node functional_11/tf_op_layer_Reshape_35/Reshape_35 (defined at tmp/ipykernel_570271/2367242908.py:17) ]] [Op:__inference_train_function_12188]\n\nFunction call stack:\ntrain_function\n",
     "output_type": "error",
     "traceback": [
      "\u001b[0;31m---------------------------------------------------------------------------\u001b[0m",
      "\u001b[0;31mInvalidArgumentError\u001b[0m                      Traceback (most recent call last)",
      "\u001b[0;32m/tmp/ipykernel_570271/2367242908.py\u001b[0m in \u001b[0;36m<module>\u001b[0;34m\u001b[0m\n\u001b[1;32m     15\u001b[0m \u001b[0mmodel\u001b[0m\u001b[0;34m.\u001b[0m\u001b[0mcompile\u001b[0m\u001b[0;34m(\u001b[0m\u001b[0mmetrics\u001b[0m\u001b[0;34m=\u001b[0m\u001b[0;34m[\u001b[0m\u001b[0;34m'mae'\u001b[0m\u001b[0;34m]\u001b[0m\u001b[0;34m,\u001b[0m \u001b[0moptimizer\u001b[0m\u001b[0;34m=\u001b[0m\u001b[0;34m'Adam'\u001b[0m\u001b[0;34m,\u001b[0m \u001b[0mloss\u001b[0m\u001b[0;34m=\u001b[0m\u001b[0;34m'mse'\u001b[0m\u001b[0;34m)\u001b[0m\u001b[0;34m\u001b[0m\u001b[0;34m\u001b[0m\u001b[0m\n\u001b[1;32m     16\u001b[0m \u001b[0;34m\u001b[0m\u001b[0m\n\u001b[0;32m---> 17\u001b[0;31m \u001b[0mmodel\u001b[0m\u001b[0;34m.\u001b[0m\u001b[0mfit\u001b[0m\u001b[0;34m(\u001b[0m\u001b[0;34m[\u001b[0m\u001b[0mtrX\u001b[0m\u001b[0;34m,\u001b[0m \u001b[0mtrY_decoder_input\u001b[0m\u001b[0;34m]\u001b[0m\u001b[0;34m,\u001b[0m \u001b[0mtrY\u001b[0m\u001b[0;34m,\u001b[0m \u001b[0mbatch_size\u001b[0m\u001b[0;34m=\u001b[0m\u001b[0;36m64\u001b[0m\u001b[0;34m,\u001b[0m \u001b[0mepochs\u001b[0m\u001b[0;34m=\u001b[0m\u001b[0mepochs\u001b[0m\u001b[0;34m,\u001b[0m \u001b[0mvalidation_split\u001b[0m\u001b[0;34m=\u001b[0m\u001b[0;36m0.3\u001b[0m\u001b[0;34m,\u001b[0m \u001b[0mverbose\u001b[0m\u001b[0;34m=\u001b[0m\u001b[0;36m1\u001b[0m\u001b[0;34m,\u001b[0m \u001b[0mcallbacks\u001b[0m\u001b[0;34m=\u001b[0m\u001b[0;34m[\u001b[0m\u001b[0mearlystopping\u001b[0m\u001b[0;34m,\u001b[0m \u001b[0mx\u001b[0m\u001b[0;34m]\u001b[0m\u001b[0;34m)\u001b[0m\u001b[0;34m\u001b[0m\u001b[0;34m\u001b[0m\u001b[0m\n\u001b[0m",
      "\u001b[0;32m~/anaconda3/envs/enso-q/lib/python3.8/site-packages/tensorflow/python/keras/engine/training.py\u001b[0m in \u001b[0;36m_method_wrapper\u001b[0;34m(self, *args, **kwargs)\u001b[0m\n\u001b[1;32m    106\u001b[0m   \u001b[0;32mdef\u001b[0m \u001b[0m_method_wrapper\u001b[0m\u001b[0;34m(\u001b[0m\u001b[0mself\u001b[0m\u001b[0;34m,\u001b[0m \u001b[0;34m*\u001b[0m\u001b[0margs\u001b[0m\u001b[0;34m,\u001b[0m \u001b[0;34m**\u001b[0m\u001b[0mkwargs\u001b[0m\u001b[0;34m)\u001b[0m\u001b[0;34m:\u001b[0m\u001b[0;34m\u001b[0m\u001b[0;34m\u001b[0m\u001b[0m\n\u001b[1;32m    107\u001b[0m     \u001b[0;32mif\u001b[0m \u001b[0;32mnot\u001b[0m \u001b[0mself\u001b[0m\u001b[0;34m.\u001b[0m\u001b[0m_in_multi_worker_mode\u001b[0m\u001b[0;34m(\u001b[0m\u001b[0;34m)\u001b[0m\u001b[0;34m:\u001b[0m  \u001b[0;31m# pylint: disable=protected-access\u001b[0m\u001b[0;34m\u001b[0m\u001b[0;34m\u001b[0m\u001b[0m\n\u001b[0;32m--> 108\u001b[0;31m       \u001b[0;32mreturn\u001b[0m \u001b[0mmethod\u001b[0m\u001b[0;34m(\u001b[0m\u001b[0mself\u001b[0m\u001b[0;34m,\u001b[0m \u001b[0;34m*\u001b[0m\u001b[0margs\u001b[0m\u001b[0;34m,\u001b[0m \u001b[0;34m**\u001b[0m\u001b[0mkwargs\u001b[0m\u001b[0;34m)\u001b[0m\u001b[0;34m\u001b[0m\u001b[0;34m\u001b[0m\u001b[0m\n\u001b[0m\u001b[1;32m    109\u001b[0m \u001b[0;34m\u001b[0m\u001b[0m\n\u001b[1;32m    110\u001b[0m     \u001b[0;31m# Running inside `run_distribute_coordinator` already.\u001b[0m\u001b[0;34m\u001b[0m\u001b[0;34m\u001b[0m\u001b[0;34m\u001b[0m\u001b[0m\n",
      "\u001b[0;32m~/anaconda3/envs/enso-q/lib/python3.8/site-packages/tensorflow/python/keras/engine/training.py\u001b[0m in \u001b[0;36mfit\u001b[0;34m(self, x, y, batch_size, epochs, verbose, callbacks, validation_split, validation_data, shuffle, class_weight, sample_weight, initial_epoch, steps_per_epoch, validation_steps, validation_batch_size, validation_freq, max_queue_size, workers, use_multiprocessing)\u001b[0m\n\u001b[1;32m   1096\u001b[0m                 batch_size=batch_size):\n\u001b[1;32m   1097\u001b[0m               \u001b[0mcallbacks\u001b[0m\u001b[0;34m.\u001b[0m\u001b[0mon_train_batch_begin\u001b[0m\u001b[0;34m(\u001b[0m\u001b[0mstep\u001b[0m\u001b[0;34m)\u001b[0m\u001b[0;34m\u001b[0m\u001b[0;34m\u001b[0m\u001b[0m\n\u001b[0;32m-> 1098\u001b[0;31m               \u001b[0mtmp_logs\u001b[0m \u001b[0;34m=\u001b[0m \u001b[0mtrain_function\u001b[0m\u001b[0;34m(\u001b[0m\u001b[0miterator\u001b[0m\u001b[0;34m)\u001b[0m\u001b[0;34m\u001b[0m\u001b[0;34m\u001b[0m\u001b[0m\n\u001b[0m\u001b[1;32m   1099\u001b[0m               \u001b[0;32mif\u001b[0m \u001b[0mdata_handler\u001b[0m\u001b[0;34m.\u001b[0m\u001b[0mshould_sync\u001b[0m\u001b[0;34m:\u001b[0m\u001b[0;34m\u001b[0m\u001b[0;34m\u001b[0m\u001b[0m\n\u001b[1;32m   1100\u001b[0m                 \u001b[0mcontext\u001b[0m\u001b[0;34m.\u001b[0m\u001b[0masync_wait\u001b[0m\u001b[0;34m(\u001b[0m\u001b[0;34m)\u001b[0m\u001b[0;34m\u001b[0m\u001b[0;34m\u001b[0m\u001b[0m\n",
      "\u001b[0;32m~/anaconda3/envs/enso-q/lib/python3.8/site-packages/tensorflow/python/eager/def_function.py\u001b[0m in \u001b[0;36m__call__\u001b[0;34m(self, *args, **kwds)\u001b[0m\n\u001b[1;32m    778\u001b[0m       \u001b[0;32melse\u001b[0m\u001b[0;34m:\u001b[0m\u001b[0;34m\u001b[0m\u001b[0;34m\u001b[0m\u001b[0m\n\u001b[1;32m    779\u001b[0m         \u001b[0mcompiler\u001b[0m \u001b[0;34m=\u001b[0m \u001b[0;34m\"nonXla\"\u001b[0m\u001b[0;34m\u001b[0m\u001b[0;34m\u001b[0m\u001b[0m\n\u001b[0;32m--> 780\u001b[0;31m         \u001b[0mresult\u001b[0m \u001b[0;34m=\u001b[0m \u001b[0mself\u001b[0m\u001b[0;34m.\u001b[0m\u001b[0m_call\u001b[0m\u001b[0;34m(\u001b[0m\u001b[0;34m*\u001b[0m\u001b[0margs\u001b[0m\u001b[0;34m,\u001b[0m \u001b[0;34m**\u001b[0m\u001b[0mkwds\u001b[0m\u001b[0;34m)\u001b[0m\u001b[0;34m\u001b[0m\u001b[0;34m\u001b[0m\u001b[0m\n\u001b[0m\u001b[1;32m    781\u001b[0m \u001b[0;34m\u001b[0m\u001b[0m\n\u001b[1;32m    782\u001b[0m       \u001b[0mnew_tracing_count\u001b[0m \u001b[0;34m=\u001b[0m \u001b[0mself\u001b[0m\u001b[0;34m.\u001b[0m\u001b[0m_get_tracing_count\u001b[0m\u001b[0;34m(\u001b[0m\u001b[0;34m)\u001b[0m\u001b[0;34m\u001b[0m\u001b[0;34m\u001b[0m\u001b[0m\n",
      "\u001b[0;32m~/anaconda3/envs/enso-q/lib/python3.8/site-packages/tensorflow/python/eager/def_function.py\u001b[0m in \u001b[0;36m_call\u001b[0;34m(self, *args, **kwds)\u001b[0m\n\u001b[1;32m    838\u001b[0m         \u001b[0;31m# Lifting succeeded, so variables are initialized and we can run the\u001b[0m\u001b[0;34m\u001b[0m\u001b[0;34m\u001b[0m\u001b[0;34m\u001b[0m\u001b[0m\n\u001b[1;32m    839\u001b[0m         \u001b[0;31m# stateless function.\u001b[0m\u001b[0;34m\u001b[0m\u001b[0;34m\u001b[0m\u001b[0;34m\u001b[0m\u001b[0m\n\u001b[0;32m--> 840\u001b[0;31m         \u001b[0;32mreturn\u001b[0m \u001b[0mself\u001b[0m\u001b[0;34m.\u001b[0m\u001b[0m_stateless_fn\u001b[0m\u001b[0;34m(\u001b[0m\u001b[0;34m*\u001b[0m\u001b[0margs\u001b[0m\u001b[0;34m,\u001b[0m \u001b[0;34m**\u001b[0m\u001b[0mkwds\u001b[0m\u001b[0;34m)\u001b[0m\u001b[0;34m\u001b[0m\u001b[0;34m\u001b[0m\u001b[0m\n\u001b[0m\u001b[1;32m    841\u001b[0m     \u001b[0;32melse\u001b[0m\u001b[0;34m:\u001b[0m\u001b[0;34m\u001b[0m\u001b[0;34m\u001b[0m\u001b[0m\n\u001b[1;32m    842\u001b[0m       \u001b[0mcanon_args\u001b[0m\u001b[0;34m,\u001b[0m \u001b[0mcanon_kwds\u001b[0m \u001b[0;34m=\u001b[0m\u001b[0;31m \u001b[0m\u001b[0;31m\\\u001b[0m\u001b[0;34m\u001b[0m\u001b[0;34m\u001b[0m\u001b[0m\n",
      "\u001b[0;32m~/anaconda3/envs/enso-q/lib/python3.8/site-packages/tensorflow/python/eager/function.py\u001b[0m in \u001b[0;36m__call__\u001b[0;34m(self, *args, **kwargs)\u001b[0m\n\u001b[1;32m   2827\u001b[0m     \u001b[0;32mwith\u001b[0m \u001b[0mself\u001b[0m\u001b[0;34m.\u001b[0m\u001b[0m_lock\u001b[0m\u001b[0;34m:\u001b[0m\u001b[0;34m\u001b[0m\u001b[0;34m\u001b[0m\u001b[0m\n\u001b[1;32m   2828\u001b[0m       \u001b[0mgraph_function\u001b[0m\u001b[0;34m,\u001b[0m \u001b[0margs\u001b[0m\u001b[0;34m,\u001b[0m \u001b[0mkwargs\u001b[0m \u001b[0;34m=\u001b[0m \u001b[0mself\u001b[0m\u001b[0;34m.\u001b[0m\u001b[0m_maybe_define_function\u001b[0m\u001b[0;34m(\u001b[0m\u001b[0margs\u001b[0m\u001b[0;34m,\u001b[0m \u001b[0mkwargs\u001b[0m\u001b[0;34m)\u001b[0m\u001b[0;34m\u001b[0m\u001b[0;34m\u001b[0m\u001b[0m\n\u001b[0;32m-> 2829\u001b[0;31m     \u001b[0;32mreturn\u001b[0m \u001b[0mgraph_function\u001b[0m\u001b[0;34m.\u001b[0m\u001b[0m_filtered_call\u001b[0m\u001b[0;34m(\u001b[0m\u001b[0margs\u001b[0m\u001b[0;34m,\u001b[0m \u001b[0mkwargs\u001b[0m\u001b[0;34m)\u001b[0m  \u001b[0;31m# pylint: disable=protected-access\u001b[0m\u001b[0;34m\u001b[0m\u001b[0;34m\u001b[0m\u001b[0m\n\u001b[0m\u001b[1;32m   2830\u001b[0m \u001b[0;34m\u001b[0m\u001b[0m\n\u001b[1;32m   2831\u001b[0m   \u001b[0;34m@\u001b[0m\u001b[0mproperty\u001b[0m\u001b[0;34m\u001b[0m\u001b[0;34m\u001b[0m\u001b[0m\n",
      "\u001b[0;32m~/anaconda3/envs/enso-q/lib/python3.8/site-packages/tensorflow/python/eager/function.py\u001b[0m in \u001b[0;36m_filtered_call\u001b[0;34m(self, args, kwargs, cancellation_manager)\u001b[0m\n\u001b[1;32m   1841\u001b[0m       \u001b[0;31m`\u001b[0m\u001b[0margs\u001b[0m\u001b[0;31m`\u001b[0m \u001b[0;32mand\u001b[0m\u001b[0;31m \u001b[0m\u001b[0;31m`\u001b[0m\u001b[0mkwargs\u001b[0m\u001b[0;31m`\u001b[0m\u001b[0;34m.\u001b[0m\u001b[0;34m\u001b[0m\u001b[0;34m\u001b[0m\u001b[0m\n\u001b[1;32m   1842\u001b[0m     \"\"\"\n\u001b[0;32m-> 1843\u001b[0;31m     return self._call_flat(\n\u001b[0m\u001b[1;32m   1844\u001b[0m         [t for t in nest.flatten((args, kwargs), expand_composites=True)\n\u001b[1;32m   1845\u001b[0m          if isinstance(t, (ops.Tensor,\n",
      "\u001b[0;32m~/anaconda3/envs/enso-q/lib/python3.8/site-packages/tensorflow/python/eager/function.py\u001b[0m in \u001b[0;36m_call_flat\u001b[0;34m(self, args, captured_inputs, cancellation_manager)\u001b[0m\n\u001b[1;32m   1921\u001b[0m         and executing_eagerly):\n\u001b[1;32m   1922\u001b[0m       \u001b[0;31m# No tape is watching; skip to running the function.\u001b[0m\u001b[0;34m\u001b[0m\u001b[0;34m\u001b[0m\u001b[0;34m\u001b[0m\u001b[0m\n\u001b[0;32m-> 1923\u001b[0;31m       return self._build_call_outputs(self._inference_function.call(\n\u001b[0m\u001b[1;32m   1924\u001b[0m           ctx, args, cancellation_manager=cancellation_manager))\n\u001b[1;32m   1925\u001b[0m     forward_backward = self._select_forward_and_backward_functions(\n",
      "\u001b[0;32m~/anaconda3/envs/enso-q/lib/python3.8/site-packages/tensorflow/python/eager/function.py\u001b[0m in \u001b[0;36mcall\u001b[0;34m(self, ctx, args, cancellation_manager)\u001b[0m\n\u001b[1;32m    543\u001b[0m       \u001b[0;32mwith\u001b[0m \u001b[0m_InterpolateFunctionError\u001b[0m\u001b[0;34m(\u001b[0m\u001b[0mself\u001b[0m\u001b[0;34m)\u001b[0m\u001b[0;34m:\u001b[0m\u001b[0;34m\u001b[0m\u001b[0;34m\u001b[0m\u001b[0m\n\u001b[1;32m    544\u001b[0m         \u001b[0;32mif\u001b[0m \u001b[0mcancellation_manager\u001b[0m \u001b[0;32mis\u001b[0m \u001b[0;32mNone\u001b[0m\u001b[0;34m:\u001b[0m\u001b[0;34m\u001b[0m\u001b[0;34m\u001b[0m\u001b[0m\n\u001b[0;32m--> 545\u001b[0;31m           outputs = execute.execute(\n\u001b[0m\u001b[1;32m    546\u001b[0m               \u001b[0mstr\u001b[0m\u001b[0;34m(\u001b[0m\u001b[0mself\u001b[0m\u001b[0;34m.\u001b[0m\u001b[0msignature\u001b[0m\u001b[0;34m.\u001b[0m\u001b[0mname\u001b[0m\u001b[0;34m)\u001b[0m\u001b[0;34m,\u001b[0m\u001b[0;34m\u001b[0m\u001b[0;34m\u001b[0m\u001b[0m\n\u001b[1;32m    547\u001b[0m               \u001b[0mnum_outputs\u001b[0m\u001b[0;34m=\u001b[0m\u001b[0mself\u001b[0m\u001b[0;34m.\u001b[0m\u001b[0m_num_outputs\u001b[0m\u001b[0;34m,\u001b[0m\u001b[0;34m\u001b[0m\u001b[0;34m\u001b[0m\u001b[0m\n",
      "\u001b[0;32m~/anaconda3/envs/enso-q/lib/python3.8/site-packages/tensorflow/python/eager/execute.py\u001b[0m in \u001b[0;36mquick_execute\u001b[0;34m(op_name, num_outputs, inputs, attrs, ctx, name)\u001b[0m\n\u001b[1;32m     57\u001b[0m   \u001b[0;32mtry\u001b[0m\u001b[0;34m:\u001b[0m\u001b[0;34m\u001b[0m\u001b[0;34m\u001b[0m\u001b[0m\n\u001b[1;32m     58\u001b[0m     \u001b[0mctx\u001b[0m\u001b[0;34m.\u001b[0m\u001b[0mensure_initialized\u001b[0m\u001b[0;34m(\u001b[0m\u001b[0;34m)\u001b[0m\u001b[0;34m\u001b[0m\u001b[0;34m\u001b[0m\u001b[0m\n\u001b[0;32m---> 59\u001b[0;31m     tensors = pywrap_tfe.TFE_Py_Execute(ctx._handle, device_name, op_name,\n\u001b[0m\u001b[1;32m     60\u001b[0m                                         inputs, attrs, num_outputs)\n\u001b[1;32m     61\u001b[0m   \u001b[0;32mexcept\u001b[0m \u001b[0mcore\u001b[0m\u001b[0;34m.\u001b[0m\u001b[0m_NotOkStatusException\u001b[0m \u001b[0;32mas\u001b[0m \u001b[0me\u001b[0m\u001b[0;34m:\u001b[0m\u001b[0;34m\u001b[0m\u001b[0;34m\u001b[0m\u001b[0m\n",
      "\u001b[0;31mInvalidArgumentError\u001b[0m:  Input to reshape is a tensor with 34560 values, but the requested shape requires a multiple of 3240\n\t [[node functional_11/tf_op_layer_Reshape_35/Reshape_35 (defined at tmp/ipykernel_570271/2367242908.py:17) ]] [Op:__inference_train_function_12188]\n\nFunction call stack:\ntrain_function\n"
     ]
    }
   ],
   "source": [
    "epochs=100\n",
    "# Early Stopping\n",
    "earlystopping = EarlyStopping(monitor='val_loss', patience = 3, restore_best_weights = True)\n",
    "\n",
    "# Tensorboard callback\n",
    "#logdir = os.path.join(\"logs\", datetime.datetime.now().strftime(\"%Y%m%d-%H%M%S\"))\n",
    "#tensorboard_callback = tf.keras.callbacks.TensorBoard(logdir, histogram_freq=1)\n",
    "\n",
    "# Run training\n",
    "#opt = keras.optimizers.Adam(lr = 0.0001)\n",
    "#RMSprop\n",
    "#当学习停滞时，减少2倍或10倍的学习率常常能获得较好的效果。\n",
    "x = tf.keras.callbacks.ReduceLROnPlateau(monitor=\"val_loss\", factor=0.1,patience=2,verbose=0,mode=\"auto\")\n",
    "\n",
    "model.compile(metrics=['mae'], optimizer='Adam', loss='mse')\n",
    "\n",
    "model.fit([trX, trY_decoder_input], trY, batch_size=64, epochs=epochs, validation_split=0.3, verbose=1, callbacks=[earlystopping, x])"
   ]
  },
  {
   "cell_type": "code",
   "execution_count": 14,
   "id": "6ac5e162",
   "metadata": {},
   "outputs": [],
   "source": [
    "def custome_rmse_fn(y_true, y_pred):\n",
    "    \"\"\" custome loss function\n",
    "    The 24 series is not equally weighted, so log1p weighted is used.\n",
    "    This is just my initial try, still have further improvement space.\n",
    "\n",
    "    y_true: batch * 24\n",
    "    \"\"\" \n",
    "    #y_pred = y_pred.numpy().reshape(-1,24)\n",
    "    #y_true = y_true.numpy().reshape(-1,24)\n",
    "    diff = (y_pred - y_true) ** 2\n",
    "    predict_sequence_length = tf.shape(y_true)[-1]#获取序列长度\n",
    "    alpha = [np.log1p(i) for i in range(1, time_steps_decoder+1)]\n",
    "    #alpha = [np.log(i)*j for i,j in zip(range(1, predict_sequence_length+1), [0.65]*4+[1]*7+[1.2]*7+[1.5]*6)]\n",
    "    alpha = tf.reshape(tf.convert_to_tensor(alpha, tf.float32), (1, time_steps_decoder))\n",
    "    #reshape(1,24)\n",
    "    rmse = tf.sqrt(tf.reduce_mean(diff * alpha))\n",
    "    return rmse"
   ]
  },
  {
   "cell_type": "markdown",
   "id": "ecdaffec",
   "metadata": {},
   "source": [
    "## Save Model"
   ]
  },
  {
   "cell_type": "code",
   "execution_count": 28,
   "id": "c4526a5b",
   "metadata": {},
   "outputs": [
    {
     "name": "stdout",
     "output_type": "stream",
     "text": [
      "Model: \"functional_781\"\n",
      "__________________________________________________________________________________________________\n",
      "Layer (type)                    Output Shape         Param #     Connected to                     \n",
      "==================================================================================================\n",
      "input_1160 (InputLayer)         [(None, 72, 24, 12)] 0                                            \n",
      "__________________________________________________________________________________________________\n",
      "tf_op_layer_strided_slice_14 (T [(None, 72, 24)]     0           input_1160[0][0]                 \n",
      "__________________________________________________________________________________________________\n",
      "tf_op_layer_strided_slice_15 (T [(None, 72, 24)]     0           input_1160[0][0]                 \n",
      "__________________________________________________________________________________________________\n",
      "tf_op_layer_strided_slice_16 (T [(None, 72, 24)]     0           input_1160[0][0]                 \n",
      "__________________________________________________________________________________________________\n",
      "tf_op_layer_strided_slice_17 (T [(None, 72, 24)]     0           input_1160[0][0]                 \n",
      "__________________________________________________________________________________________________\n",
      "tf_op_layer_strided_slice_18 (T [(None, 72, 24)]     0           input_1160[0][0]                 \n",
      "__________________________________________________________________________________________________\n",
      "tf_op_layer_strided_slice_19 (T [(None, 72, 24)]     0           input_1160[0][0]                 \n",
      "__________________________________________________________________________________________________\n",
      "tf_op_layer_strided_slice_20 (T [(None, 72, 24)]     0           input_1160[0][0]                 \n",
      "__________________________________________________________________________________________________\n",
      "tf_op_layer_strided_slice_21 (T [(None, 72, 24)]     0           input_1160[0][0]                 \n",
      "__________________________________________________________________________________________________\n",
      "tf_op_layer_strided_slice_22 (T [(None, 72, 24)]     0           input_1160[0][0]                 \n",
      "__________________________________________________________________________________________________\n",
      "tf_op_layer_strided_slice_23 (T [(None, 72, 24)]     0           input_1160[0][0]                 \n",
      "__________________________________________________________________________________________________\n",
      "tf_op_layer_strided_slice_24 (T [(None, 72, 24)]     0           input_1160[0][0]                 \n",
      "__________________________________________________________________________________________________\n",
      "tf_op_layer_strided_slice_25 (T [(None, 72, 24)]     0           input_1160[0][0]                 \n",
      "__________________________________________________________________________________________________\n",
      "functional_777 (Functional)     (None, 3240)         15450       tf_op_layer_strided_slice_14[0][0\n",
      "                                                                 tf_op_layer_strided_slice_15[0][0\n",
      "                                                                 tf_op_layer_strided_slice_16[0][0\n",
      "                                                                 tf_op_layer_strided_slice_17[0][0\n",
      "                                                                 tf_op_layer_strided_slice_18[0][0\n",
      "                                                                 tf_op_layer_strided_slice_19[0][0\n",
      "                                                                 tf_op_layer_strided_slice_20[0][0\n",
      "                                                                 tf_op_layer_strided_slice_21[0][0\n",
      "                                                                 tf_op_layer_strided_slice_22[0][0\n",
      "                                                                 tf_op_layer_strided_slice_23[0][0\n",
      "                                                                 tf_op_layer_strided_slice_24[0][0\n",
      "                                                                 tf_op_layer_strided_slice_25[0][0\n",
      "__________________________________________________________________________________________________\n",
      "tf_op_layer_Reshape_14 (TensorF [(None, 1, 3240)]    0           functional_777[0][0]             \n",
      "__________________________________________________________________________________________________\n",
      "tf_op_layer_Reshape_15 (TensorF [(None, 1, 3240)]    0           functional_777[1][0]             \n",
      "__________________________________________________________________________________________________\n",
      "tf_op_layer_Reshape_16 (TensorF [(None, 1, 3240)]    0           functional_777[2][0]             \n",
      "__________________________________________________________________________________________________\n",
      "tf_op_layer_Reshape_17 (TensorF [(None, 1, 3240)]    0           functional_777[3][0]             \n",
      "__________________________________________________________________________________________________\n",
      "tf_op_layer_Reshape_18 (TensorF [(None, 1, 3240)]    0           functional_777[4][0]             \n",
      "__________________________________________________________________________________________________\n",
      "tf_op_layer_Reshape_19 (TensorF [(None, 1, 3240)]    0           functional_777[5][0]             \n",
      "__________________________________________________________________________________________________\n",
      "tf_op_layer_Reshape_20 (TensorF [(None, 1, 3240)]    0           functional_777[6][0]             \n",
      "__________________________________________________________________________________________________\n",
      "tf_op_layer_Reshape_21 (TensorF [(None, 1, 3240)]    0           functional_777[7][0]             \n",
      "__________________________________________________________________________________________________\n",
      "tf_op_layer_Reshape_22 (TensorF [(None, 1, 3240)]    0           functional_777[8][0]             \n",
      "__________________________________________________________________________________________________\n",
      "tf_op_layer_Reshape_23 (TensorF [(None, 1, 3240)]    0           functional_777[9][0]             \n",
      "__________________________________________________________________________________________________\n",
      "tf_op_layer_Reshape_24 (TensorF [(None, 1, 3240)]    0           functional_777[10][0]            \n",
      "__________________________________________________________________________________________________\n",
      "tf_op_layer_Reshape_25 (TensorF [(None, 1, 3240)]    0           functional_777[11][0]            \n",
      "__________________________________________________________________________________________________\n",
      "concatenate_1 (Concatenate)     (None, 12, 3240)     0           tf_op_layer_Reshape_14[0][0]     \n",
      "                                                                 tf_op_layer_Reshape_15[0][0]     \n",
      "                                                                 tf_op_layer_Reshape_16[0][0]     \n",
      "                                                                 tf_op_layer_Reshape_17[0][0]     \n",
      "                                                                 tf_op_layer_Reshape_18[0][0]     \n",
      "                                                                 tf_op_layer_Reshape_19[0][0]     \n",
      "                                                                 tf_op_layer_Reshape_20[0][0]     \n",
      "                                                                 tf_op_layer_Reshape_21[0][0]     \n",
      "                                                                 tf_op_layer_Reshape_22[0][0]     \n",
      "                                                                 tf_op_layer_Reshape_23[0][0]     \n",
      "                                                                 tf_op_layer_Reshape_24[0][0]     \n",
      "                                                                 tf_op_layer_Reshape_25[0][0]     \n",
      "__________________________________________________________________________________________________\n",
      "lstm_384 (LSTM)                 [(None, 12, 512), (N 7686144     concatenate_1[0][0]              \n",
      "__________________________________________________________________________________________________\n",
      "lstm_385 (LSTM)                 [(None, 12, 512), (N 2099200     lstm_384[0][0]                   \n",
      "__________________________________________________________________________________________________\n",
      "lstm_386 (LSTM)                 [(None, 12, 512), (N 2099200     lstm_385[0][0]                   \n",
      "==================================================================================================\n",
      "Total params: 11,899,994\n",
      "Trainable params: 11,899,994\n",
      "Non-trainable params: 0\n",
      "__________________________________________________________________________________________________\n",
      "Model: \"functional_783\"\n",
      "__________________________________________________________________________________________________\n",
      "Layer (type)                    Output Shape         Param #     Connected to                     \n",
      "==================================================================================================\n",
      "decoder_inputs (InputLayer)     [(None, 24, 1)]      0                                            \n",
      "__________________________________________________________________________________________________\n",
      "input_1161 (InputLayer)         [(None, 512)]        0                                            \n",
      "__________________________________________________________________________________________________\n",
      "input_1162 (InputLayer)         [(None, 512)]        0                                            \n",
      "__________________________________________________________________________________________________\n",
      "decoder_lstm (LSTM)             [(None, 24, 512), (N 1052672     decoder_inputs[0][0]             \n",
      "                                                                 input_1161[0][0]                 \n",
      "                                                                 input_1162[0][0]                 \n",
      "__________________________________________________________________________________________________\n",
      "dense_769 (Dense)               (None, 24, 512)      262656      decoder_lstm[1][0]               \n",
      "__________________________________________________________________________________________________\n",
      "decoder_out (Dense)             (None, 24, 1)        513         dense_769[1][0]                  \n",
      "==================================================================================================\n",
      "Total params: 1,315,841\n",
      "Trainable params: 1,315,841\n",
      "Non-trainable params: 0\n",
      "__________________________________________________________________________________________________\n"
     ]
    }
   ],
   "source": [
    "save_model_path = 'model_final'\n",
    "if not os.path.exists(save_model_path):\n",
    "    os.makedirs(save_model_path)\n",
    "\n",
    "# Saving encoder as in training\n",
    "encoder_model = Model(_input, encoder_states)\n",
    "\n",
    "# Saving decoder states and dense layer \n",
    "decoder_state_input_h = Input(shape=(latent_dim,))\n",
    "decoder_state_input_c = Input(shape=(latent_dim,))\n",
    "decoder_states_inputs = [decoder_state_input_h, decoder_state_input_c]\n",
    "decoder_outputs, state_h, state_c = decoder_lstm(\n",
    "    decoder_inputs, initial_state=decoder_states_inputs)\n",
    "decoder_states = [state_h, state_c]\n",
    "decoder_outputs = decoder_dense1(decoder_outputs)\n",
    "decoder_outputs = decoder_dense(decoder_outputs)\n",
    "#modle(input, output)\n",
    "decoder_model = Model(\n",
    "    [decoder_inputs] + decoder_states_inputs,\n",
    "    [decoder_outputs] + decoder_states)\n",
    "\n",
    "encoder_model.summary()\n",
    "decoder_model.summary()\n",
    "encoder_model.save(os.path.join(save_model_path, 'encoder_model.h5'))\n",
    "decoder_model.save_weights(os.path.join(save_model_path, 'decoder_model_weights.h5'))"
   ]
  },
  {
   "cell_type": "markdown",
   "id": "cda1a820",
   "metadata": {},
   "source": [
    "## Load Model"
   ]
  },
  {
   "cell_type": "code",
   "execution_count": 29,
   "id": "8c84b0c2",
   "metadata": {},
   "outputs": [],
   "source": [
    "def decode_predict(input_seq):\n",
    "    # inference encoder model\n",
    "    save_model_path = 'model_final'\n",
    "    inf_encoder_model = load_model(os.path.join(save_model_path, 'encoder_model.h5'))\n",
    "    \n",
    "    # inference decoder model\n",
    "    decoder_inputs = Input(shape=(None, num_decoder_tokens))#注意是none (none, 1)\n",
    "    decoder_dense1 = Dense(latent_dim,activation ='tanh')\n",
    "    decoder_dense = Dense(num_decoder_tokens)\n",
    "    decoder_lstm = LSTM(latent_dim, return_sequences=True, return_state=True)\n",
    "    decoder_state_input_h = Input(shape=(latent_dim,))\n",
    "    decoder_state_input_c = Input(shape=(latent_dim,))\n",
    "    decoder_states_inputs = [decoder_state_input_h, decoder_state_input_c]\n",
    "    decoder_outputs, state_h, state_c = decoder_lstm(decoder_inputs, initial_state=decoder_states_inputs)\n",
    "    decoder_states = [state_h, state_c]\n",
    "    decoder_outputs = decoder_dense1(decoder_outputs)\n",
    "    decoder_outputs = decoder_dense(decoder_outputs)\n",
    "\n",
    "    inf_decoder_model = Model(\n",
    "            [decoder_inputs] + decoder_states_inputs,\n",
    "            [decoder_outputs] + decoder_states)\n",
    "    inf_decoder_model.load_weights(os.path.join(save_model_path, 'decoder_model_weights.h5'))\n",
    "\n",
    "    # 将输入编码为状态向量，states_value用于decoder\n",
    "    states_value = inf_encoder_model.predict(input_seq.reshape(-1, 72, 24, 12))\n",
    "    target_seq = np.zeros((1, 1, num_decoder_tokens))#(1, 1, 1)\n",
    "    target_seq[0, 0, 0] = 0.\n",
    "    decoded_sentence = []\n",
    "    \n",
    "    for i in range(24):\n",
    "      #print(target_seq)\n",
    "      output, h, c = inf_decoder_model.predict([target_seq] + states_value)\n",
    "      #加入预测值\n",
    "      decoded_sentence.append(output[0,0,0])\n",
    "      \n",
    "      \n",
    "      # 更新目标序列（长度为1）。\n",
    "      target_seq = np.zeros((1, 1, num_decoder_tokens))\n",
    "      target_seq = output\n",
    "      \n",
    "      # Update states\n",
    "      states_value = [h, c]\n",
    "\n",
    "    return decoded_sentence"
   ]
  },
  {
   "cell_type": "markdown",
   "id": "caea87f8",
   "metadata": {},
   "source": [
    "## Prodict\n"
   ]
  },
  {
   "cell_type": "code",
   "execution_count": 30,
   "id": "ffa698e0",
   "metadata": {
    "scrolled": true
   },
   "outputs": [
    {
     "name": "stdout",
     "output_type": "stream",
     "text": [
      "test No.1\n",
      "WARNING:tensorflow:No training configuration found in the save file, so the model was *not* compiled. Compile it manually.\n",
      "test No.2\n",
      "WARNING:tensorflow:No training configuration found in the save file, so the model was *not* compiled. Compile it manually.\n",
      "test No.3\n",
      "WARNING:tensorflow:No training configuration found in the save file, so the model was *not* compiled. Compile it manually.\n",
      "test No.4\n",
      "WARNING:tensorflow:No training configuration found in the save file, so the model was *not* compiled. Compile it manually.\n",
      "test No.5\n",
      "WARNING:tensorflow:No training configuration found in the save file, so the model was *not* compiled. Compile it manually.\n",
      "test No.6\n",
      "WARNING:tensorflow:No training configuration found in the save file, so the model was *not* compiled. Compile it manually.\n",
      "test No.7\n",
      "WARNING:tensorflow:No training configuration found in the save file, so the model was *not* compiled. Compile it manually.\n",
      "test No.8\n",
      "WARNING:tensorflow:No training configuration found in the save file, so the model was *not* compiled. Compile it manually.\n",
      "test No.9\n",
      "WARNING:tensorflow:No training configuration found in the save file, so the model was *not* compiled. Compile it manually.\n",
      "test No.10\n",
      "WARNING:tensorflow:No training configuration found in the save file, so the model was *not* compiled. Compile it manually.\n",
      "test No.11\n",
      "WARNING:tensorflow:No training configuration found in the save file, so the model was *not* compiled. Compile it manually.\n",
      "test No.12\n",
      "WARNING:tensorflow:No training configuration found in the save file, so the model was *not* compiled. Compile it manually.\n",
      "test No.13\n",
      "WARNING:tensorflow:No training configuration found in the save file, so the model was *not* compiled. Compile it manually.\n",
      "test No.14\n",
      "WARNING:tensorflow:No training configuration found in the save file, so the model was *not* compiled. Compile it manually.\n",
      "test No.15\n",
      "WARNING:tensorflow:No training configuration found in the save file, so the model was *not* compiled. Compile it manually.\n",
      "test No.16\n",
      "WARNING:tensorflow:No training configuration found in the save file, so the model was *not* compiled. Compile it manually.\n",
      "test No.17\n",
      "WARNING:tensorflow:No training configuration found in the save file, so the model was *not* compiled. Compile it manually.\n",
      "test No.18\n",
      "WARNING:tensorflow:No training configuration found in the save file, so the model was *not* compiled. Compile it manually.\n",
      "test No.19\n",
      "WARNING:tensorflow:No training configuration found in the save file, so the model was *not* compiled. Compile it manually.\n",
      "test No.20\n",
      "WARNING:tensorflow:No training configuration found in the save file, so the model was *not* compiled. Compile it manually.\n",
      "test No.21\n",
      "WARNING:tensorflow:No training configuration found in the save file, so the model was *not* compiled. Compile it manually.\n",
      "test No.22\n",
      "WARNING:tensorflow:No training configuration found in the save file, so the model was *not* compiled. Compile it manually.\n",
      "test No.23\n",
      "WARNING:tensorflow:No training configuration found in the save file, so the model was *not* compiled. Compile it manually.\n",
      "test No.24\n",
      "WARNING:tensorflow:No training configuration found in the save file, so the model was *not* compiled. Compile it manually.\n",
      "test No.25\n",
      "WARNING:tensorflow:No training configuration found in the save file, so the model was *not* compiled. Compile it manually.\n",
      "test No.26\n",
      "WARNING:tensorflow:No training configuration found in the save file, so the model was *not* compiled. Compile it manually.\n",
      "test No.27\n",
      "WARNING:tensorflow:No training configuration found in the save file, so the model was *not* compiled. Compile it manually.\n",
      "test No.28\n",
      "WARNING:tensorflow:No training configuration found in the save file, so the model was *not* compiled. Compile it manually.\n",
      "test No.29\n",
      "WARNING:tensorflow:No training configuration found in the save file, so the model was *not* compiled. Compile it manually.\n",
      "test No.30\n",
      "WARNING:tensorflow:No training configuration found in the save file, so the model was *not* compiled. Compile it manually.\n",
      "test No.31\n",
      "WARNING:tensorflow:No training configuration found in the save file, so the model was *not* compiled. Compile it manually.\n",
      "test No.32\n",
      "WARNING:tensorflow:No training configuration found in the save file, so the model was *not* compiled. Compile it manually.\n",
      "test No.33\n",
      "WARNING:tensorflow:No training configuration found in the save file, so the model was *not* compiled. Compile it manually.\n",
      "test No.34\n",
      "WARNING:tensorflow:No training configuration found in the save file, so the model was *not* compiled. Compile it manually.\n",
      "test No.35\n",
      "WARNING:tensorflow:No training configuration found in the save file, so the model was *not* compiled. Compile it manually.\n",
      "test No.36\n",
      "WARNING:tensorflow:No training configuration found in the save file, so the model was *not* compiled. Compile it manually.\n",
      "test No.37\n",
      "WARNING:tensorflow:No training configuration found in the save file, so the model was *not* compiled. Compile it manually.\n",
      "test No.38\n",
      "WARNING:tensorflow:No training configuration found in the save file, so the model was *not* compiled. Compile it manually.\n",
      "test No.39\n",
      "WARNING:tensorflow:No training configuration found in the save file, so the model was *not* compiled. Compile it manually.\n",
      "test No.40\n",
      "WARNING:tensorflow:No training configuration found in the save file, so the model was *not* compiled. Compile it manually.\n",
      "test No.41\n",
      "WARNING:tensorflow:No training configuration found in the save file, so the model was *not* compiled. Compile it manually.\n",
      "test No.42\n",
      "WARNING:tensorflow:No training configuration found in the save file, so the model was *not* compiled. Compile it manually.\n",
      "test No.43\n"
     ]
    },
    {
     "name": "stderr",
     "output_type": "stream",
     "text": [
      "ERROR:root:Internal Python error in the inspect module.\n",
      "Below is the traceback from this internal error.\n",
      "\n",
      "\n",
      "KeyboardInterrupt\n",
      "\n"
     ]
    }
   ],
   "source": [
    "out = []\n",
    "for i in range(testX.shape[0]):\n",
    "    print(\"test No.\" + str(i+1))\n",
    "    out.append(decode_predict(testX[i,:,:]))"
   ]
  },
  {
   "cell_type": "code",
   "execution_count": null,
   "id": "6bfe0e41",
   "metadata": {
    "scrolled": false
   },
   "outputs": [],
   "source": [
    "testY.shape"
   ]
  },
  {
   "cell_type": "code",
   "execution_count": 16,
   "id": "e445f6ac",
   "metadata": {},
   "outputs": [
    {
     "name": "stdout",
     "output_type": "stream",
     "text": [
      "[0.58626274 0.50774242 0.46145249]\n"
     ]
    }
   ],
   "source": [
    "num = 3\n",
    "cor = np.zeros((num))\n",
    "for i in range(num):\n",
    "    cor[i] = np.corrcoef(testY.reshape(384,num)[:,i],np.array(out)[:,i])[0,1]\n",
    "print(cor)"
   ]
  },
  {
   "cell_type": "code",
   "execution_count": null,
   "id": "203c4791",
   "metadata": {},
   "outputs": [],
   "source": [
    "cor = np.zeros((24))\n",
    "for i in range(24):\n",
    "    cor[i] = np.corrcoef(testY.reshape(384,24)[:,i],np.array(out)[:,i])[0,1]\n",
    "print(cor)"
   ]
  },
  {
   "cell_type": "code",
   "execution_count": 25,
   "id": "603d7a86",
   "metadata": {},
   "outputs": [],
   "source": [
    "with open(\"/home/d/Q/result.txt\",\"a\") as f:\n",
    "    f.write(str(cor) + \"\\n\")"
   ]
  },
  {
   "cell_type": "markdown",
   "id": "de2acee3",
   "metadata": {},
   "source": [
    "## Correlation coefficient"
   ]
  }
 ],
 "metadata": {
  "kernelspec": {
   "display_name": "Python 3 (ipykernel)",
   "language": "python",
   "name": "python3"
  },
  "language_info": {
   "codemirror_mode": {
    "name": "ipython",
    "version": 3
   },
   "file_extension": ".py",
   "mimetype": "text/x-python",
   "name": "python",
   "nbconvert_exporter": "python",
   "pygments_lexer": "ipython3",
   "version": "3.8.11"
  }
 },
 "nbformat": 4,
 "nbformat_minor": 5
}
